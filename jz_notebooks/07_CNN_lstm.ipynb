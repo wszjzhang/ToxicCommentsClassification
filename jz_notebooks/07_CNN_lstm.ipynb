{
 "cells": [
  {
   "cell_type": "code",
   "execution_count": 18,
   "metadata": {
    "collapsed": true
   },
   "outputs": [],
   "source": [
    "from __future__ import print_function\n",
    "import pandas as pd\n",
    "\n",
    "from keras.preprocessing.text import Tokenizer\n",
    "from keras.preprocessing.sequence import pad_sequences\n",
    "\n",
    "from keras.preprocessing import sequence\n",
    "from keras.models import Sequential\n",
    "from keras.layers import Dense, Dropout, Activation\n",
    "from keras.layers import Embedding\n",
    "from keras.layers import LSTM\n",
    "from keras.layers import Conv1D, MaxPooling1D\n",
    "from keras import regularizers\n",
    "\n",
    "from keras.callbacks import EarlyStopping, ModelCheckpoint"
   ]
  },
  {
   "cell_type": "markdown",
   "metadata": {},
   "source": [
    "# Data"
   ]
  },
  {
   "cell_type": "code",
   "execution_count": 2,
   "metadata": {
    "collapsed": true
   },
   "outputs": [],
   "source": [
    "path = '../input/'\n",
    "EMBEDDING_FILE = path + 'glove.6B/glove.6B.300d.txt'\n",
    "TRAIN_DATA_FILE = path + 'train.csv'\n",
    "TEST_DATA_FILE = path + 'test.csv'"
   ]
  },
  {
   "cell_type": "code",
   "execution_count": 3,
   "metadata": {
    "collapsed": true
   },
   "outputs": [],
   "source": [
    "train_df = pd.read_csv(TRAIN_DATA_FILE)\n",
    "test_df = pd.read_csv(TEST_DATA_FILE)\n",
    "\n",
    "list_sentences_train = train_df[\"comment_text\"].fillna(\"_na_\").values\n",
    "\n",
    "class_list = [\"toxic\", \"severe_toxic\", \"obscene\", \n",
    "              \"threat\", \"insult\", \"identity_hate\"]\n",
    "labels = train_df[class_list].values\n",
    "\n",
    "list_sentences_test = test_df[\"comment_text\"].fillna(\"_na_\").values"
   ]
  },
  {
   "cell_type": "code",
   "execution_count": 4,
   "metadata": {
    "collapsed": true
   },
   "outputs": [],
   "source": [
    "# Embedding\n",
    "max_features = 20000\n",
    "maxlen = 100\n",
    "embedding_size = 300"
   ]
  },
  {
   "cell_type": "code",
   "execution_count": 5,
   "metadata": {
    "collapsed": true
   },
   "outputs": [],
   "source": [
    "tokenizer = Tokenizer(num_words=max_features)\n",
    "tokenizer.fit_on_texts(list(list_sentences_train))\n",
    "list_tokenized_train = tokenizer.texts_to_sequences(list_sentences_train)\n",
    "list_tokenized_test = tokenizer.texts_to_sequences(list_sentences_test)\n",
    "\n",
    "features_train = pad_sequences(list_tokenized_train, maxlen=maxlen)\n",
    "features_test = pad_sequences(list_tokenized_test, maxlen=maxlen)"
   ]
  },
  {
   "cell_type": "markdown",
   "metadata": {},
   "source": [
    "# Model"
   ]
  },
  {
   "cell_type": "code",
   "execution_count": 35,
   "metadata": {},
   "outputs": [
    {
     "data": {
      "text/plain": [
       "'\\nNote:\\nbatch_size is highly sensitive.\\nOnly 2 epochs are needed as the dataset is very small.\\n'"
      ]
     },
     "execution_count": 35,
     "metadata": {},
     "output_type": "execute_result"
    }
   ],
   "source": [
    "# Convolution\n",
    "kernel_size = 5\n",
    "filters = 128\n",
    "pool_size = 4\n",
    "\n",
    "# LSTM\n",
    "lstm_output_size = 100\n",
    "\n",
    "# Training\n",
    "batch_size = 32\n",
    "epochs = 5\n",
    "\n",
    "'''\n",
    "Note:\n",
    "batch_size is highly sensitive.\n",
    "Only 2 epochs are needed as the dataset is very small.\n",
    "'''"
   ]
  },
  {
   "cell_type": "code",
   "execution_count": 39,
   "metadata": {},
   "outputs": [
    {
     "name": "stdout",
     "output_type": "stream",
     "text": [
      "Build model...\n"
     ]
    }
   ],
   "source": [
    "print('Build model...')\n",
    "\n",
    "model = Sequential()\n",
    "model.add(Embedding(max_features, embedding_size, input_length=maxlen))\n",
    "model.add(Conv1D(filters,\n",
    "                 kernel_size,\n",
    "                 padding='valid',\n",
    "                 activation='relu',\n",
    "                 strides=1))\n",
    "model.add(MaxPooling1D(pool_size=pool_size))\n",
    "model.add(LSTM(lstm_output_size))\n",
    "model.add(Dropout(0.2))\n",
    "model.add(Dense(12, activity_regularizer=regularizers.l1_l2(0.00004)))\n",
    "#model.add(Dropout(0.2))\n",
    "model.add(Dense(6, activity_regularizer=regularizers.l1_l2(0.00004)))\n",
    "model.add(Activation('sigmoid'))\n",
    "\n",
    "model.compile(loss='binary_crossentropy',\n",
    "              optimizer='adam',\n",
    "              metrics=['accuracy'])"
   ]
  },
  {
   "cell_type": "code",
   "execution_count": 42,
   "metadata": {},
   "outputs": [
    {
     "name": "stdout",
     "output_type": "stream",
     "text": [
      "_________________________________________________________________\n",
      "Layer (type)                 Output Shape              Param #   \n",
      "=================================================================\n",
      "embedding_10 (Embedding)     (None, 100, 300)          6000000   \n",
      "_________________________________________________________________\n",
      "conv1d_10 (Conv1D)           (None, 96, 128)           192128    \n",
      "_________________________________________________________________\n",
      "max_pooling1d_10 (MaxPooling (None, 24, 128)           0         \n",
      "_________________________________________________________________\n",
      "lstm_10 (LSTM)               (None, 100)               91600     \n",
      "_________________________________________________________________\n",
      "dropout_10 (Dropout)         (None, 100)               0         \n",
      "_________________________________________________________________\n",
      "dense_9 (Dense)              (None, 12)                1212      \n",
      "_________________________________________________________________\n",
      "dense_10 (Dense)             (None, 6)                 78        \n",
      "_________________________________________________________________\n",
      "activation_9 (Activation)    (None, 6)                 0         \n",
      "=================================================================\n",
      "Total params: 6,285,018\n",
      "Trainable params: 6,285,018\n",
      "Non-trainable params: 0\n",
      "_________________________________________________________________\n",
      "None\n"
     ]
    }
   ],
   "source": [
    "print(model.summary())"
   ]
  },
  {
   "cell_type": "markdown",
   "metadata": {},
   "source": [
    "# Training"
   ]
  },
  {
   "cell_type": "code",
   "execution_count": 40,
   "metadata": {
    "collapsed": true
   },
   "outputs": [],
   "source": [
    "STAMP = 'cnn_lstm_Glove_0228'\n",
    "early_stopping =EarlyStopping(monitor='val_acc', patience=5)\n",
    "bst_model_path = STAMP + '.h5'\n",
    "model_checkpoint = ModelCheckpoint(bst_model_path, save_best_only=True, save_weights_only=True)"
   ]
  },
  {
   "cell_type": "code",
   "execution_count": 41,
   "metadata": {},
   "outputs": [
    {
     "name": "stdout",
     "output_type": "stream",
     "text": [
      "Train...\n",
      "Train on 151592 samples, validate on 7979 samples\n",
      "Epoch 1/5\n",
      "151592/151592 [==============================] - 341s - loss: 0.6660 - acc: 0.9780 - val_loss: 0.6658 - val_acc: 0.9803\n",
      "Epoch 2/5\n",
      "151592/151592 [==============================] - 395s - loss: 0.6654 - acc: 0.9823 - val_loss: 0.6657 - val_acc: 0.9804\n",
      "Epoch 3/5\n",
      "151592/151592 [==============================] - 385s - loss: 0.6652 - acc: 0.9841 - val_loss: 0.6661 - val_acc: 0.9804\n",
      "Epoch 4/5\n",
      "151592/151592 [==============================] - 396s - loss: 0.6650 - acc: 0.9862 - val_loss: 0.6664 - val_acc: 0.9813\n",
      "Epoch 5/5\n",
      "151592/151592 [==============================] - 394s - loss: 0.6649 - acc: 0.9877 - val_loss: 0.6661 - val_acc: 0.9812\n"
     ]
    }
   ],
   "source": [
    "print('Train...')\n",
    "hist = model.fit(features_train, labels,\n",
    "          batch_size=batch_size,\n",
    "          epochs=epochs,\n",
    "          validation_split=0.05,\n",
    "          callbacks=[early_stopping, model_checkpoint])"
   ]
  },
  {
   "cell_type": "markdown",
   "metadata": {},
   "source": [
    "# Submission"
   ]
  },
  {
   "cell_type": "code",
   "execution_count": null,
   "metadata": {},
   "outputs": [],
   "source": [
    "model.load_weights(bst_model_path)\n",
    "bst_val_score = min(hist.history['val_acc'])\n",
    "print(\"Model val_acc\", bst_val_score)"
   ]
  },
  {
   "cell_type": "code",
   "execution_count": 32,
   "metadata": {},
   "outputs": [
    {
     "name": "stdout",
     "output_type": "stream",
     "text": [
      "153164/153164 [==============================] - 5s     \n"
     ]
    }
   ],
   "source": [
    "y_test = model.predict([features_test], batch_size=1024, verbose=1)\n",
    "sample_submission = pd.read_csv(path+'sample_submission.csv')\n",
    "\n",
    "\n",
    "sample_submission[class_list] = y_test\n",
    "sample_submission.to_csv('../output/4_cnn_lstm_glove0228_300.csv', index=False)"
   ]
  },
  {
   "cell_type": "code",
   "execution_count": null,
   "metadata": {
    "collapsed": true
   },
   "outputs": [],
   "source": []
  }
 ],
 "metadata": {
  "hide_input": false,
  "kernelspec": {
   "display_name": "Python 3",
   "language": "python",
   "name": "python3"
  },
  "language_info": {
   "codemirror_mode": {
    "name": "ipython",
    "version": 3
   },
   "file_extension": ".py",
   "mimetype": "text/x-python",
   "name": "python",
   "nbconvert_exporter": "python",
   "pygments_lexer": "ipython3",
   "version": "3.5.2"
  },
  "toc": {
   "nav_menu": {},
   "number_sections": true,
   "sideBar": true,
   "skip_h1_title": false,
   "toc_cell": false,
   "toc_position": {},
   "toc_section_display": "block",
   "toc_window_display": false
  },
  "widgets": {
   "state": {},
   "version": "1.1.2"
  }
 },
 "nbformat": 4,
 "nbformat_minor": 2
}
