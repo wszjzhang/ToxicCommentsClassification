{
 "cells": [
  {
   "cell_type": "markdown",
   "metadata": {},
   "source": [
    "This is the notebook implementing basic LSTM networks for toxic classification with tensorflow. (refer to DL-ND sentiment_RNN)"
   ]
  },
  {
   "cell_type": "code",
   "execution_count": 1,
   "metadata": {
    "collapsed": true
   },
   "outputs": [],
   "source": [
    "import numpy as np\n",
    "import pandas as pd\n",
    "import tensorflow as tf"
   ]
  },
  {
   "cell_type": "code",
   "execution_count": 2,
   "metadata": {},
   "outputs": [
    {
     "name": "stdout",
     "output_type": "stream",
     "text": [
      "glove.6B.100d.txt.zip\n",
      "glove6b100dtxt\n",
      "sample_submission.csv\n",
      "sample_submission.csv.zip\n",
      "test.csv\n",
      "test.csv.zip\n",
      "train.csv\n",
      "train.csv.zip\n",
      "\n"
     ]
    }
   ],
   "source": [
    "from subprocess import check_output\n",
    "print(check_output([\"ls\", \"../input\"]).decode(\"utf8\"))"
   ]
  },
  {
   "cell_type": "markdown",
   "metadata": {},
   "source": [
    "# Load data "
   ]
  },
  {
   "cell_type": "code",
   "execution_count": 3,
   "metadata": {},
   "outputs": [
    {
     "name": "stdout",
     "output_type": "stream",
     "text": [
      "(159571, 8)\n"
     ]
    }
   ],
   "source": [
    "train_df = pd.read_csv(\"../input/train.csv\")\n",
    "test_df = pd.read_csv(\"../input/test.csv\")\n",
    "\n",
    "print(train_df.shape)"
   ]
  },
  {
   "cell_type": "code",
   "execution_count": 4,
   "metadata": {},
   "outputs": [
    {
     "data": {
      "text/html": [
       "<div>\n",
       "<style>\n",
       "    .dataframe thead tr:only-child th {\n",
       "        text-align: right;\n",
       "    }\n",
       "\n",
       "    .dataframe thead th {\n",
       "        text-align: left;\n",
       "    }\n",
       "\n",
       "    .dataframe tbody tr th {\n",
       "        vertical-align: top;\n",
       "    }\n",
       "</style>\n",
       "<table border=\"1\" class=\"dataframe\">\n",
       "  <thead>\n",
       "    <tr style=\"text-align: right;\">\n",
       "      <th></th>\n",
       "      <th>id</th>\n",
       "      <th>comment_text</th>\n",
       "      <th>toxic</th>\n",
       "      <th>severe_toxic</th>\n",
       "      <th>obscene</th>\n",
       "      <th>threat</th>\n",
       "      <th>insult</th>\n",
       "      <th>identity_hate</th>\n",
       "    </tr>\n",
       "  </thead>\n",
       "  <tbody>\n",
       "    <tr>\n",
       "      <th>0</th>\n",
       "      <td>0000997932d777bf</td>\n",
       "      <td>Explanation\\nWhy the edits made under my usern...</td>\n",
       "      <td>0</td>\n",
       "      <td>0</td>\n",
       "      <td>0</td>\n",
       "      <td>0</td>\n",
       "      <td>0</td>\n",
       "      <td>0</td>\n",
       "    </tr>\n",
       "    <tr>\n",
       "      <th>1</th>\n",
       "      <td>000103f0d9cfb60f</td>\n",
       "      <td>D'aww! He matches this background colour I'm s...</td>\n",
       "      <td>0</td>\n",
       "      <td>0</td>\n",
       "      <td>0</td>\n",
       "      <td>0</td>\n",
       "      <td>0</td>\n",
       "      <td>0</td>\n",
       "    </tr>\n",
       "    <tr>\n",
       "      <th>2</th>\n",
       "      <td>000113f07ec002fd</td>\n",
       "      <td>Hey man, I'm really not trying to edit war. It...</td>\n",
       "      <td>0</td>\n",
       "      <td>0</td>\n",
       "      <td>0</td>\n",
       "      <td>0</td>\n",
       "      <td>0</td>\n",
       "      <td>0</td>\n",
       "    </tr>\n",
       "    <tr>\n",
       "      <th>3</th>\n",
       "      <td>0001b41b1c6bb37e</td>\n",
       "      <td>\"\\nMore\\nI can't make any real suggestions on ...</td>\n",
       "      <td>0</td>\n",
       "      <td>0</td>\n",
       "      <td>0</td>\n",
       "      <td>0</td>\n",
       "      <td>0</td>\n",
       "      <td>0</td>\n",
       "    </tr>\n",
       "    <tr>\n",
       "      <th>4</th>\n",
       "      <td>0001d958c54c6e35</td>\n",
       "      <td>You, sir, are my hero. Any chance you remember...</td>\n",
       "      <td>0</td>\n",
       "      <td>0</td>\n",
       "      <td>0</td>\n",
       "      <td>0</td>\n",
       "      <td>0</td>\n",
       "      <td>0</td>\n",
       "    </tr>\n",
       "  </tbody>\n",
       "</table>\n",
       "</div>"
      ],
      "text/plain": [
       "                 id                                       comment_text  toxic  \\\n",
       "0  0000997932d777bf  Explanation\\nWhy the edits made under my usern...      0   \n",
       "1  000103f0d9cfb60f  D'aww! He matches this background colour I'm s...      0   \n",
       "2  000113f07ec002fd  Hey man, I'm really not trying to edit war. It...      0   \n",
       "3  0001b41b1c6bb37e  \"\\nMore\\nI can't make any real suggestions on ...      0   \n",
       "4  0001d958c54c6e35  You, sir, are my hero. Any chance you remember...      0   \n",
       "\n",
       "   severe_toxic  obscene  threat  insult  identity_hate  \n",
       "0             0        0       0       0              0  \n",
       "1             0        0       0       0              0  \n",
       "2             0        0       0       0              0  \n",
       "3             0        0       0       0              0  \n",
       "4             0        0       0       0              0  "
      ]
     },
     "execution_count": 4,
     "metadata": {},
     "output_type": "execute_result"
    }
   ],
   "source": [
    "train_df.head()"
   ]
  },
  {
   "cell_type": "code",
   "execution_count": 5,
   "metadata": {},
   "outputs": [
    {
     "data": {
      "text/plain": [
       "6"
      ]
     },
     "execution_count": 5,
     "metadata": {},
     "output_type": "execute_result"
    }
   ],
   "source": [
    "min(map(len, train_df.comment_text))"
   ]
  },
  {
   "cell_type": "markdown",
   "metadata": {},
   "source": [
    "# Data preprocessing"
   ]
  },
  {
   "cell_type": "code",
   "execution_count": 6,
   "metadata": {
    "collapsed": true
   },
   "outputs": [],
   "source": [
    "class_list = [\"toxic\", \"severe_toxic\", \"obscene\", \"threat\", \"insult\", \"identity_hate\"]\n",
    "labels = train_df[class_list].values"
   ]
  },
  {
   "cell_type": "code",
   "execution_count": 7,
   "metadata": {},
   "outputs": [
    {
     "data": {
      "text/plain": [
       "(159571, 6)"
      ]
     },
     "execution_count": 7,
     "metadata": {},
     "output_type": "execute_result"
    }
   ],
   "source": [
    "labels.shape"
   ]
  },
  {
   "cell_type": "markdown",
   "metadata": {},
   "source": [
    "First, let's remove all punctuation. Then get all the text without the newlines and split it into individual words."
   ]
  },
  {
   "cell_type": "code",
   "execution_count": 8,
   "metadata": {
    "collapsed": true
   },
   "outputs": [],
   "source": [
    "from string import punctuation"
   ]
  },
  {
   "cell_type": "code",
   "execution_count": 9,
   "metadata": {
    "collapsed": true
   },
   "outputs": [],
   "source": [
    "def clean_string(sentence):\n",
    "    text = \"\".join([c for c in sentence if c not in punctuation])\n",
    "    sens = \" \".join(text.split('\\n'))\n",
    "    words = sens.split(\" \")\n",
    "    \n",
    "    return [word.lower() for word in words if word]"
   ]
  },
  {
   "cell_type": "code",
   "execution_count": 10,
   "metadata": {
    "collapsed": true
   },
   "outputs": [],
   "source": [
    "list_sentences_train = train_df[\"comment_text\"].apply(clean_string).values"
   ]
  },
  {
   "cell_type": "markdown",
   "metadata": {},
   "source": [
    "## Encoding words"
   ]
  },
  {
   "cell_type": "markdown",
   "metadata": {},
   "source": [
    "The embedding lookup requires that we pass in integers to our network. The easiest way to do this is to create dictionaries that map the words in the vocabulary to integers. Then we can convert each of our reviews into integers so they can be passed into the network."
   ]
  },
  {
   "cell_type": "code",
   "execution_count": 11,
   "metadata": {
    "collapsed": true
   },
   "outputs": [],
   "source": [
    "from collections import Counter"
   ]
  },
  {
   "cell_type": "code",
   "execution_count": 12,
   "metadata": {
    "collapsed": true
   },
   "outputs": [],
   "source": [
    "#from functools import reduce\n",
    "\n",
    "#words = reduce(lambda x,y: x+y, list(list_sentences_train))"
   ]
  },
  {
   "cell_type": "code",
   "execution_count": 13,
   "metadata": {
    "collapsed": true
   },
   "outputs": [],
   "source": [
    "import pickle\n",
    "#pickle.dump( words, open( \"words.pkl\", \"wb\" ) )\n",
    "words = pickle.load(open(\"words.pkl\",\"rb\"))"
   ]
  },
  {
   "cell_type": "code",
   "execution_count": 14,
   "metadata": {
    "collapsed": true
   },
   "outputs": [],
   "source": [
    "counts = Counter(words)"
   ]
  },
  {
   "cell_type": "code",
   "execution_count": 15,
   "metadata": {
    "collapsed": true
   },
   "outputs": [],
   "source": [
    "vocab = sorted(counts, key=counts.get, reverse=True)"
   ]
  },
  {
   "cell_type": "code",
   "execution_count": 16,
   "metadata": {
    "collapsed": true
   },
   "outputs": [],
   "source": [
    "vocab_to_int = {word: ii for ii, word in enumerate(vocab, 1)}"
   ]
  },
  {
   "cell_type": "code",
   "execution_count": 17,
   "metadata": {
    "collapsed": true
   },
   "outputs": [],
   "source": [
    "list_tokenized_train = [[vocab_to_int[word] for word in sentence] for sentence in list_sentences_train]"
   ]
  },
  {
   "cell_type": "code",
   "execution_count": 18,
   "metadata": {},
   "outputs": [
    {
     "data": {
      "text/plain": [
       "array([ ['explanation', 'why', 'the', 'edits', 'made', 'under', 'my', 'username', 'hardcore', 'metallica', 'fan', 'were', 'reverted', 'they', 'werent', 'vandalisms', 'just', 'closure', 'on', 'some', 'gas', 'after', 'i', 'voted', 'at', 'new', 'york', 'dolls', 'fac', 'and', 'please', 'dont', 'remove', 'the', 'template', 'from', 'the', 'talk', 'page', 'since', 'im', 'retired', 'now892053827'],\n",
       "       ['daww', 'he', 'matches', 'this', 'background', 'colour', 'im', 'seemingly', 'stuck', 'with', 'thanks', 'talk', '2151', 'january', '11', '2016', 'utc'],\n",
       "       ['hey', 'man', 'im', 'really', 'not', 'trying', 'to', 'edit', 'war', 'its', 'just', 'that', 'this', 'guy', 'is', 'constantly', 'removing', 'relevant', 'information', 'and', 'talking', 'to', 'me', 'through', 'edits', 'instead', 'of', 'my', 'talk', 'page', 'he', 'seems', 'to', 'care', 'more', 'about', 'the', 'formatting', 'than', 'the', 'actual', 'info'],\n",
       "       ...,\n",
       "       ['spitzer', 'umm', 'theres', 'no', 'actual', 'article', 'for', 'prostitution', 'ring', 'crunch', 'captain'],\n",
       "       ['and', 'it', 'looks', 'like', 'it', 'was', 'actually', 'you', 'who', 'put', 'on', 'the', 'speedy', 'to', 'have', 'the', 'first', 'version', 'deleted', 'now', 'that', 'i', 'look', 'at', 'it'],\n",
       "       ['and', 'i', 'really', 'dont', 'think', 'you', 'understand', 'i', 'came', 'here', 'and', 'my', 'idea', 'was', 'bad', 'right', 'away', 'what', 'kind', 'of', 'community', 'goes', 'you', 'have', 'bad', 'ideas', 'go', 'away', 'instead', 'of', 'helping', 'rewrite', 'them']], dtype=object)"
      ]
     },
     "execution_count": 18,
     "metadata": {},
     "output_type": "execute_result"
    }
   ],
   "source": [
    "list_sentences_train"
   ]
  },
  {
   "cell_type": "markdown",
   "metadata": {
    "collapsed": true
   },
   "source": [
    "##  Feature for sentence"
   ]
  },
  {
   "cell_type": "code",
   "execution_count": 19,
   "metadata": {
    "collapsed": true
   },
   "outputs": [],
   "source": [
    "max_len = 300\n",
    "features = np.zeros((len(list_tokenized_train), max_len), dtype=int)\n",
    "for i, row in enumerate(list_tokenized_train):\n",
    "    features[i, -len(row):] = np.array(row)[:max_len]"
   ]
  },
  {
   "cell_type": "markdown",
   "metadata": {},
   "source": [
    "## Dataset split training, validation, test"
   ]
  },
  {
   "cell_type": "code",
   "execution_count": 20,
   "metadata": {},
   "outputs": [
    {
     "name": "stdout",
     "output_type": "stream",
     "text": [
      "\t\t\tFeature Shapes:\n",
      "Train set: \t\t(127656, 300) \n",
      "Validation set: \t(15957, 300) \n",
      "Test set: \t\t(15958, 300)\n"
     ]
    }
   ],
   "source": [
    "split_frac = 0.8\n",
    "split_idx = int(len(features)*0.8)\n",
    "train_x, val_x = features[:split_idx], features[split_idx:]\n",
    "train_y, val_y = labels[:split_idx], labels[split_idx:]\n",
    "\n",
    "test_idx = int(len(val_x)*0.5)\n",
    "val_x, test_x = val_x[:test_idx], val_x[test_idx:]\n",
    "val_y, test_y = val_y[:test_idx], val_y[test_idx:]\n",
    "\n",
    "print(\"\\t\\t\\tFeature Shapes:\")\n",
    "print(\"Train set: \\t\\t{}\".format(train_x.shape), \n",
    "      \"\\nValidation set: \\t{}\".format(val_x.shape),\n",
    "      \"\\nTest set: \\t\\t{}\".format(test_x.shape))"
   ]
  },
  {
   "cell_type": "markdown",
   "metadata": {},
   "source": [
    "# Build computation graph"
   ]
  },
  {
   "cell_type": "markdown",
   "metadata": {},
   "source": [
    "Here, we'll build the graph. First up, defining the hyperparameters.\n",
    "\n",
    "* `lstm_size`: Number of units in the hidden layers in the LSTM cells. Usually larger is better performance wise. Common values are 128, 256, 512, etc.\n",
    "* `lstm_layers`: Number of LSTM layers in the network. I'd start with 1, then add more if I'm underfitting.\n",
    "* `batch_size`: The number of reviews to feed the network in one training pass. Typically this should be set as high as you can go without running out of memory.\n",
    "* `learning_rate`: Learning rate"
   ]
  },
  {
   "cell_type": "code",
   "execution_count": 34,
   "metadata": {
    "collapsed": true
   },
   "outputs": [],
   "source": [
    "lstm_size = 128\n",
    "lstm_layers = 1\n",
    "batch_size = 500\n",
    "learning_rate = 0.00002"
   ]
  },
  {
   "cell_type": "markdown",
   "metadata": {},
   "source": [
    "For the network itself, we'll be passing in our 200 element long review vectors. Each batch will be `batch_size` vectors. We'll also be using dropout on the LSTM layer, so we'll make a placeholder for the keep probability."
   ]
  },
  {
   "cell_type": "code",
   "execution_count": 22,
   "metadata": {
    "collapsed": true
   },
   "outputs": [],
   "source": [
    "graph = tf.Graph()\n",
    "\n",
    "with graph.as_default():\n",
    "    \n",
    "    inputs_ = tf.placeholder(tf.int32, [None, None], name=\"inputs\")\n",
    "    labels_ = tf.placeholder(tf.int32, [None, 6], name=\"labels\")  \n",
    "    keep_prob = tf.placeholder(tf.float32, name=\"dropout_keep\")"
   ]
  },
  {
   "cell_type": "markdown",
   "metadata": {},
   "source": [
    "Create the embedding lookup matrix as a `tf.Variable`. Use that embedding matrix to get the embedded vectors to pass to the LSTM cell with [`tf.nn.embedding_lookup`](https://www.tensorflow.org/api_docs/python/tf/nn/embedding_lookup)."
   ]
  },
  {
   "cell_type": "code",
   "execution_count": 23,
   "metadata": {
    "collapsed": true
   },
   "outputs": [],
   "source": [
    "embed_size = 300\n",
    "n_words = len(vocab_to_int)\n",
    "with graph.as_default():\n",
    "    embedding = tf.Variable(tf.random_uniform((n_words, embed_size), -1, 1))\n",
    "    embed = tf.nn.embedding_lookup(embedding, inputs_)"
   ]
  },
  {
   "cell_type": "markdown",
   "metadata": {},
   "source": [
    "To create a basic LSTM cell for the graph, you'll want to use tf.contrib.rnn.BasicLSTMCell. Looking at the function documentation: tf.contrib.rnn.BasicLSTMCell(num_units, forget_bias=1.0, input_size=None, state_is_tuple=True, activation=<function tanh at 0x109f1ef28>)\n",
    "you can see it takes a parameter called num_units, the number of units in the cell, called lstm_size in this code. So then, you can write something like \n",
    "\n",
    "* lstm = tf.contrib.rnn.BasicLSTMCell(num_units)\n",
    "to create an LSTM cell with num_units.\n",
    "\n",
    "Next, you can add dropout to the cell with tf.contrib.rnn.DropoutWrapper. This just wraps the cell in another cell, but with dropout added to the inputs and/or outputs. It's a really convenient way to make your network better with almost no effort! So you'd do something like\n",
    "* drop = tf.contrib.rnn.DropoutWrapper(cell, output_keep_prob=keep_prob)\n",
    "\n",
    "Most of the time, you're network will have better performance with more layers. That's sort of the magic of deep learning, adding more layers allows the network to learn really complex relationships. Again, there is a simple way to create multiple layers of LSTM cells with tf.contrib.rnn.MultiRNNCell:\n",
    "* cell = tf.contrib.rnn.MultiRNNCell([drop] * lstm_layers)"
   ]
  },
  {
   "cell_type": "code",
   "execution_count": null,
   "metadata": {
    "collapsed": true
   },
   "outputs": [],
   "source": [
    "with graph.as_default():\n",
    "    #lstm = tf.contrib.rnn.BasicLSTMCell(lstm_size)\n",
    "    #dropout = tf.contrib.rnn.DropoutWrapper(lstm, output_keep_prob = keep_prob)\n",
    "    cell = tf.contrib.rnn.MultiRNNCell(\n",
    "        [tf.contrib.rnn.DropoutWrapper(tf.contrib.rnn.BasicLSTMCell(lstm_size), \n",
    "                                                                      output_keep_prob = keep_prob) for _ in range(lstm_layers)])\n",
    "    \n",
    "    # Getting an initial state of all zeros\n",
    "    initial_state = cell.zero_state(batch_size, tf.float32)"
   ]
  },
  {
   "cell_type": "code",
   "execution_count": 24,
   "metadata": {
    "collapsed": true
   },
   "outputs": [],
   "source": [
    "with graph.as_default():\n",
    "    lstm1 = tf.contrib.rnn.BasicLSTMCell(lstm_size)\n",
    "    dropout1 = tf.contrib.rnn.DropoutWrapper(lstm1, output_keep_prob = keep_prob)\n",
    "    \n",
    "    lstm2 = tf.contrib.rnn.BasicLSTMCell(lstm_size)\n",
    "    dropout2 = tf.contrib.rnn.DropoutWrapper(lstm2, output_keep_prob = keep_prob)\n",
    "    \n",
    "#    lstm3 = tf.contrib.rnn.BasicLSTMCell(lstm_size)\n",
    "#    dropout3 = tf.contrib.rnn.DropoutWrapper(lstm3, output_keep_prob = keep_prob)\n",
    "    \n",
    "    cell = tf.contrib.rnn.MultiRNNCell([dropout1, dropout2])\n",
    "    \n",
    "    # Getting an initial state of all zeros\n",
    "    initial_state = cell.zero_state(batch_size, tf.float32)"
   ]
  },
  {
   "cell_type": "markdown",
   "metadata": {},
   "source": [
    "Use tf.nn.dynamic_rnn to add the forward pass through the RNN. Remember that we're actually passing in vectors from the embedding layer, embed."
   ]
  },
  {
   "cell_type": "code",
   "execution_count": 25,
   "metadata": {
    "scrolled": false
   },
   "outputs": [],
   "source": [
    "with graph.as_default():\n",
    "    outputs, final_state = tf.nn.dynamic_rnn(cell, embed, initial_state = initial_state)\n"
   ]
  },
  {
   "cell_type": "code",
   "execution_count": 26,
   "metadata": {
    "collapsed": true
   },
   "outputs": [],
   "source": [
    "with graph.as_default():\n",
    "    logits = tf.contrib.layers.fully_connected(outputs[:, -1], 6)\n",
    "    cost = tf.losses.sigmoid_cross_entropy(labels_, logits)\n",
    "    \n",
    "    optimizer = tf.train.AdamOptimizer(learning_rate).minimize(cost)"
   ]
  },
  {
   "cell_type": "markdown",
   "metadata": {},
   "source": [
    "validation accuracy"
   ]
  },
  {
   "cell_type": "code",
   "execution_count": 27,
   "metadata": {
    "collapsed": true
   },
   "outputs": [],
   "source": [
    "with graph.as_default():\n",
    "    correct_pred = tf.equal(tf.cast(tf.argmax(logits), tf.int32), labels_)\n",
    "    accuracy = tf.reduce_mean(tf.cast(correct_pred, tf.float32))"
   ]
  },
  {
   "cell_type": "markdown",
   "metadata": {},
   "source": [
    "get bactch"
   ]
  },
  {
   "cell_type": "code",
   "execution_count": 28,
   "metadata": {
    "collapsed": true
   },
   "outputs": [],
   "source": [
    "def get_batches(x, y, batch_size=100):\n",
    "    \n",
    "    n_batches = len(x)//batch_size\n",
    "    x, y = x[:n_batches*batch_size], y[:n_batches*batch_size]\n",
    "    for ii in range(0, len(x), batch_size):\n",
    "        yield x[ii:ii+batch_size], y[ii:ii+batch_size]"
   ]
  },
  {
   "cell_type": "code",
   "execution_count": 29,
   "metadata": {},
   "outputs": [
    {
     "name": "stdout",
     "output_type": "stream",
     "text": [
      "(500, 300) (500, 6)\n"
     ]
    }
   ],
   "source": [
    "for x,y in get_batches(train_x, train_y, batch_size):\n",
    "    print(x.shape,y.shape)\n",
    "    break"
   ]
  },
  {
   "cell_type": "markdown",
   "metadata": {},
   "source": [
    "# Training"
   ]
  },
  {
   "cell_type": "code",
   "execution_count": 35,
   "metadata": {
    "scrolled": true
   },
   "outputs": [
    {
     "name": "stdout",
     "output_type": "stream",
     "text": [
      "Epoch: 0/10 Iteration: 5 Train loss: 0.714279055595398\n",
      "Epoch: 0/10 Iteration: 10 Train loss: 0.7149246335029602\n",
      "Epoch: 0/10 Iteration: 15 Train loss: 0.7102986574172974\n",
      "Epoch: 0/10 Iteration: 20 Train loss: 0.710433840751648\n",
      "Epoch: 0/10 Iteration: 25 Train loss: 0.7088608145713806\n",
      "Val acc: 0.006\n",
      "Epoch: 0/10 Iteration: 30 Train loss: 0.7063932418823242\n",
      "Epoch: 0/10 Iteration: 35 Train loss: 0.7055742144584656\n",
      "Epoch: 0/10 Iteration: 40 Train loss: 0.7038763761520386\n",
      "Epoch: 0/10 Iteration: 45 Train loss: 0.7032282948493958\n",
      "Epoch: 0/10 Iteration: 50 Train loss: 0.702880859375\n",
      "Val acc: 0.006\n",
      "Epoch: 0/10 Iteration: 55 Train loss: 0.7026378512382507\n",
      "Epoch: 0/10 Iteration: 60 Train loss: 0.7012133002281189\n",
      "Epoch: 0/10 Iteration: 65 Train loss: 0.7003015875816345\n",
      "Epoch: 0/10 Iteration: 70 Train loss: 0.6999343037605286\n",
      "Epoch: 0/10 Iteration: 75 Train loss: 0.7002649903297424\n",
      "Val acc: 0.006\n",
      "Epoch: 0/10 Iteration: 80 Train loss: 0.6991429328918457\n",
      "Epoch: 0/10 Iteration: 85 Train loss: 0.6979143023490906\n",
      "Epoch: 0/10 Iteration: 90 Train loss: 0.6975950598716736\n",
      "Epoch: 0/10 Iteration: 95 Train loss: 0.6969212293624878\n",
      "Epoch: 0/10 Iteration: 100 Train loss: 0.6970636248588562\n",
      "Val acc: 0.000\n",
      "Epoch: 0/10 Iteration: 105 Train loss: 0.6966109871864319\n",
      "Epoch: 0/10 Iteration: 110 Train loss: 0.6967899799346924\n",
      "Epoch: 0/10 Iteration: 115 Train loss: 0.696317732334137\n",
      "Epoch: 0/10 Iteration: 120 Train loss: 0.6962239742279053\n",
      "Epoch: 0/10 Iteration: 125 Train loss: 0.6962062120437622\n",
      "Val acc: 0.000\n",
      "Epoch: 0/10 Iteration: 130 Train loss: 0.6954164505004883\n",
      "Epoch: 0/10 Iteration: 135 Train loss: 0.6954270601272583\n",
      "Epoch: 0/10 Iteration: 140 Train loss: 0.6951902508735657\n",
      "Epoch: 0/10 Iteration: 145 Train loss: 0.6954074501991272\n",
      "Epoch: 0/10 Iteration: 150 Train loss: 0.6952024698257446\n",
      "Val acc: 0.026\n",
      "Epoch: 0/10 Iteration: 155 Train loss: 0.6947115063667297\n",
      "Epoch: 0/10 Iteration: 160 Train loss: 0.6950710415840149\n",
      "Epoch: 0/10 Iteration: 165 Train loss: 0.694810152053833\n",
      "Epoch: 0/10 Iteration: 170 Train loss: 0.6945967078208923\n",
      "Epoch: 0/10 Iteration: 175 Train loss: 0.6944422125816345\n",
      "Val acc: 0.078\n",
      "Epoch: 0/10 Iteration: 180 Train loss: 0.6945565342903137\n",
      "Epoch: 0/10 Iteration: 185 Train loss: 0.6943836212158203\n",
      "Epoch: 0/10 Iteration: 190 Train loss: 0.6943457126617432\n",
      "Epoch: 0/10 Iteration: 195 Train loss: 0.6942983269691467\n",
      "Epoch: 0/10 Iteration: 200 Train loss: 0.6940723657608032\n",
      "Val acc: 0.207\n",
      "Epoch: 0/10 Iteration: 205 Train loss: 0.6942267417907715\n",
      "Epoch: 0/10 Iteration: 210 Train loss: 0.6939289569854736\n",
      "Epoch: 0/10 Iteration: 215 Train loss: 0.6940752863883972\n",
      "Epoch: 0/10 Iteration: 220 Train loss: 0.6941623687744141\n",
      "Epoch: 0/10 Iteration: 225 Train loss: 0.6936792135238647\n",
      "Val acc: 0.331\n",
      "Epoch: 0/10 Iteration: 230 Train loss: 0.6938452124595642\n",
      "Epoch: 0/10 Iteration: 235 Train loss: 0.6936537027359009\n",
      "Epoch: 0/10 Iteration: 240 Train loss: 0.6940394043922424\n",
      "Epoch: 0/10 Iteration: 245 Train loss: 0.693923830986023\n",
      "Epoch: 0/10 Iteration: 250 Train loss: 0.6936637163162231\n",
      "Val acc: 0.451\n",
      "Epoch: 0/10 Iteration: 255 Train loss: 0.693526029586792\n",
      "Epoch: 1/10 Iteration: 260 Train loss: 0.6935612559318542\n",
      "Epoch: 1/10 Iteration: 265 Train loss: 0.6939249038696289\n",
      "Epoch: 1/10 Iteration: 270 Train loss: 0.6936201453208923\n",
      "Epoch: 1/10 Iteration: 275 Train loss: 0.6936559081077576\n",
      "Val acc: 0.503\n",
      "Epoch: 1/10 Iteration: 280 Train loss: 0.6935358047485352\n",
      "Epoch: 1/10 Iteration: 285 Train loss: 0.6936419010162354\n",
      "Epoch: 1/10 Iteration: 290 Train loss: 0.6937505602836609\n",
      "Epoch: 1/10 Iteration: 295 Train loss: 0.6933752298355103\n",
      "Epoch: 1/10 Iteration: 300 Train loss: 0.6934520602226257\n",
      "Val acc: 0.565\n",
      "Epoch: 1/10 Iteration: 305 Train loss: 0.6934356093406677\n",
      "Epoch: 1/10 Iteration: 310 Train loss: 0.6937736868858337\n",
      "Epoch: 1/10 Iteration: 315 Train loss: 0.6934035420417786\n",
      "Epoch: 1/10 Iteration: 320 Train loss: 0.6936054825782776\n",
      "Epoch: 1/10 Iteration: 325 Train loss: 0.6933774352073669\n",
      "Val acc: 0.623\n",
      "Epoch: 1/10 Iteration: 330 Train loss: 0.6935985684394836\n",
      "Epoch: 1/10 Iteration: 335 Train loss: 0.6934183239936829\n",
      "Epoch: 1/10 Iteration: 340 Train loss: 0.6934796571731567\n",
      "Epoch: 1/10 Iteration: 345 Train loss: 0.6933424472808838\n",
      "Epoch: 1/10 Iteration: 350 Train loss: 0.6934881806373596\n",
      "Val acc: 0.644\n",
      "Epoch: 1/10 Iteration: 355 Train loss: 0.6936166882514954\n",
      "Epoch: 1/10 Iteration: 360 Train loss: 0.6935549378395081\n",
      "Epoch: 1/10 Iteration: 365 Train loss: 0.6933358311653137\n",
      "Epoch: 1/10 Iteration: 370 Train loss: 0.6934970617294312\n",
      "Epoch: 1/10 Iteration: 375 Train loss: 0.693313479423523\n",
      "Val acc: 0.653\n",
      "Epoch: 1/10 Iteration: 380 Train loss: 0.6933760046958923\n",
      "Epoch: 1/10 Iteration: 385 Train loss: 0.6933450698852539\n",
      "Epoch: 1/10 Iteration: 390 Train loss: 0.6931722164154053\n",
      "Epoch: 1/10 Iteration: 395 Train loss: 0.6932945251464844\n",
      "Epoch: 1/10 Iteration: 400 Train loss: 0.6933274865150452\n",
      "Val acc: 0.669\n",
      "Epoch: 1/10 Iteration: 405 Train loss: 0.6932752132415771\n",
      "Epoch: 1/10 Iteration: 410 Train loss: 0.6933348774909973\n",
      "Epoch: 1/10 Iteration: 415 Train loss: 0.6933618187904358\n",
      "Epoch: 1/10 Iteration: 420 Train loss: 0.6932513117790222\n",
      "Epoch: 1/10 Iteration: 425 Train loss: 0.693371593952179\n",
      "Val acc: 0.679\n",
      "Epoch: 1/10 Iteration: 430 Train loss: 0.6932793259620667\n",
      "Epoch: 1/10 Iteration: 435 Train loss: 0.6932350993156433\n",
      "Epoch: 1/10 Iteration: 440 Train loss: 0.6932985186576843\n",
      "Epoch: 1/10 Iteration: 445 Train loss: 0.6932276487350464\n",
      "Epoch: 1/10 Iteration: 450 Train loss: 0.6934852600097656\n",
      "Val acc: 0.695\n",
      "Epoch: 1/10 Iteration: 455 Train loss: 0.6931858658790588\n",
      "Epoch: 1/10 Iteration: 460 Train loss: 0.6932847499847412\n",
      "Epoch: 1/10 Iteration: 465 Train loss: 0.6933569312095642\n",
      "Epoch: 1/10 Iteration: 470 Train loss: 0.6933659911155701\n",
      "Epoch: 1/10 Iteration: 475 Train loss: 0.6933304071426392\n",
      "Val acc: 0.700\n",
      "Epoch: 1/10 Iteration: 480 Train loss: 0.6932721138000488\n",
      "Epoch: 1/10 Iteration: 485 Train loss: 0.6931849718093872\n",
      "Epoch: 1/10 Iteration: 490 Train loss: 0.6933990716934204\n",
      "Epoch: 1/10 Iteration: 495 Train loss: 0.6932112574577332\n",
      "Epoch: 1/10 Iteration: 500 Train loss: 0.6935167908668518\n",
      "Val acc: 0.715\n",
      "Epoch: 1/10 Iteration: 505 Train loss: 0.6932597756385803\n",
      "Epoch: 1/10 Iteration: 510 Train loss: 0.6932533979415894\n",
      "Epoch: 2/10 Iteration: 515 Train loss: 0.6931701898574829\n",
      "Epoch: 2/10 Iteration: 520 Train loss: 0.6931983828544617\n",
      "Epoch: 2/10 Iteration: 525 Train loss: 0.6932350397109985\n",
      "Val acc: 0.715\n",
      "Epoch: 2/10 Iteration: 530 Train loss: 0.6932199001312256\n",
      "Epoch: 2/10 Iteration: 535 Train loss: 0.6932452917098999\n",
      "Epoch: 2/10 Iteration: 540 Train loss: 0.6932055950164795\n",
      "Epoch: 2/10 Iteration: 545 Train loss: 0.6934040784835815\n",
      "Epoch: 2/10 Iteration: 550 Train loss: 0.6931807398796082\n",
      "Val acc: 0.720\n",
      "Epoch: 2/10 Iteration: 555 Train loss: 0.6931671500205994\n",
      "Epoch: 2/10 Iteration: 560 Train loss: 0.6932068467140198\n",
      "Epoch: 2/10 Iteration: 565 Train loss: 0.6934473514556885\n",
      "Epoch: 2/10 Iteration: 570 Train loss: 0.6932637691497803\n",
      "Epoch: 2/10 Iteration: 575 Train loss: 0.6934943795204163\n",
      "Val acc: 0.725\n",
      "Epoch: 2/10 Iteration: 580 Train loss: 0.6931520104408264\n",
      "Epoch: 2/10 Iteration: 585 Train loss: 0.6932255625724792\n",
      "Epoch: 2/10 Iteration: 590 Train loss: 0.6933085918426514\n",
      "Epoch: 2/10 Iteration: 595 Train loss: 0.6931642889976501\n",
      "Epoch: 2/10 Iteration: 600 Train loss: 0.6931970119476318\n",
      "Val acc: 0.731\n",
      "Epoch: 2/10 Iteration: 605 Train loss: 0.6931987404823303\n",
      "Epoch: 2/10 Iteration: 610 Train loss: 0.6933208107948303\n",
      "Epoch: 2/10 Iteration: 615 Train loss: 0.6933009624481201\n",
      "Epoch: 2/10 Iteration: 620 Train loss: 0.6932110786437988\n",
      "Epoch: 2/10 Iteration: 625 Train loss: 0.6932056546211243\n",
      "Val acc: 0.731\n",
      "Epoch: 2/10 Iteration: 630 Train loss: 0.6932164430618286\n",
      "Epoch: 2/10 Iteration: 635 Train loss: 0.6932962536811829\n",
      "Epoch: 2/10 Iteration: 640 Train loss: 0.6931691765785217\n",
      "Epoch: 2/10 Iteration: 645 Train loss: 0.6931573152542114\n",
      "Epoch: 2/10 Iteration: 650 Train loss: 0.6932085752487183\n",
      "Val acc: 0.731\n",
      "Epoch: 2/10 Iteration: 655 Train loss: 0.6931341886520386\n",
      "Epoch: 2/10 Iteration: 660 Train loss: 0.6932263374328613\n",
      "Epoch: 2/10 Iteration: 665 Train loss: 0.6933557987213135\n",
      "Epoch: 2/10 Iteration: 670 Train loss: 0.6931619644165039\n",
      "Epoch: 2/10 Iteration: 675 Train loss: 0.6932651400566101\n",
      "Val acc: 0.736\n"
     ]
    },
    {
     "name": "stdout",
     "output_type": "stream",
     "text": [
      "Epoch: 2/10 Iteration: 680 Train loss: 0.6932439804077148\n",
      "Epoch: 2/10 Iteration: 685 Train loss: 0.6932386159896851\n",
      "Epoch: 2/10 Iteration: 690 Train loss: 0.6931849718093872\n",
      "Epoch: 2/10 Iteration: 695 Train loss: 0.6931976079940796\n",
      "Epoch: 2/10 Iteration: 700 Train loss: 0.6934633851051331\n",
      "Val acc: 0.736\n",
      "Epoch: 2/10 Iteration: 705 Train loss: 0.6932934522628784\n",
      "Epoch: 2/10 Iteration: 710 Train loss: 0.6931419372558594\n",
      "Epoch: 2/10 Iteration: 715 Train loss: 0.6932054162025452\n",
      "Epoch: 2/10 Iteration: 720 Train loss: 0.6932034492492676\n",
      "Epoch: 2/10 Iteration: 725 Train loss: 0.6932480335235596\n",
      "Val acc: 0.741\n",
      "Epoch: 2/10 Iteration: 730 Train loss: 0.693199634552002\n",
      "Epoch: 2/10 Iteration: 735 Train loss: 0.693172037601471\n",
      "Epoch: 2/10 Iteration: 740 Train loss: 0.6931645274162292\n",
      "Epoch: 2/10 Iteration: 745 Train loss: 0.6932479739189148\n",
      "Epoch: 2/10 Iteration: 750 Train loss: 0.693170428276062\n",
      "Val acc: 0.741\n",
      "Epoch: 2/10 Iteration: 755 Train loss: 0.6935634613037109\n",
      "Epoch: 2/10 Iteration: 760 Train loss: 0.6931873559951782\n",
      "Epoch: 2/10 Iteration: 765 Train loss: 0.6932137608528137\n",
      "Epoch: 3/10 Iteration: 770 Train loss: 0.6931990385055542\n",
      "Epoch: 3/10 Iteration: 775 Train loss: 0.6931638717651367\n",
      "Val acc: 0.741\n",
      "Epoch: 3/10 Iteration: 780 Train loss: 0.6931887269020081\n",
      "Epoch: 3/10 Iteration: 785 Train loss: 0.6931682825088501\n",
      "Epoch: 3/10 Iteration: 790 Train loss: 0.6931910514831543\n",
      "Epoch: 3/10 Iteration: 795 Train loss: 0.6931949853897095\n",
      "Epoch: 3/10 Iteration: 800 Train loss: 0.6933427453041077\n",
      "Val acc: 0.741\n",
      "Epoch: 3/10 Iteration: 805 Train loss: 0.6931887865066528\n",
      "Epoch: 3/10 Iteration: 810 Train loss: 0.6932578086853027\n",
      "Epoch: 3/10 Iteration: 815 Train loss: 0.6931594014167786\n",
      "Epoch: 3/10 Iteration: 820 Train loss: 0.6932225227355957\n",
      "Epoch: 3/10 Iteration: 825 Train loss: 0.6932253241539001\n",
      "Val acc: 0.741\n",
      "Epoch: 3/10 Iteration: 830 Train loss: 0.6933671236038208\n",
      "Epoch: 3/10 Iteration: 835 Train loss: 0.6931688785552979\n",
      "Epoch: 3/10 Iteration: 840 Train loss: 0.6931427121162415\n",
      "Epoch: 3/10 Iteration: 845 Train loss: 0.6931725144386292\n",
      "Epoch: 3/10 Iteration: 850 Train loss: 0.6932491064071655\n",
      "Val acc: 0.741\n",
      "Epoch: 3/10 Iteration: 855 Train loss: 0.6932036876678467\n",
      "Epoch: 3/10 Iteration: 860 Train loss: 0.693166196346283\n",
      "Epoch: 3/10 Iteration: 865 Train loss: 0.6932163834571838\n",
      "Epoch: 3/10 Iteration: 870 Train loss: 0.6932159662246704\n",
      "Epoch: 3/10 Iteration: 875 Train loss: 0.693185567855835\n",
      "Val acc: 0.741\n",
      "Epoch: 3/10 Iteration: 880 Train loss: 0.6931572556495667\n",
      "Epoch: 3/10 Iteration: 885 Train loss: 0.6931655406951904\n",
      "Epoch: 3/10 Iteration: 890 Train loss: 0.6932332515716553\n",
      "Epoch: 3/10 Iteration: 895 Train loss: 0.6931672096252441\n",
      "Epoch: 3/10 Iteration: 900 Train loss: 0.6932196617126465\n",
      "Val acc: 0.741\n",
      "Epoch: 3/10 Iteration: 905 Train loss: 0.6931600570678711\n",
      "Epoch: 3/10 Iteration: 910 Train loss: 0.693184494972229\n",
      "Epoch: 3/10 Iteration: 915 Train loss: 0.6932680010795593\n",
      "Epoch: 3/10 Iteration: 920 Train loss: 0.6930853724479675\n",
      "Epoch: 3/10 Iteration: 925 Train loss: 0.6931883096694946\n",
      "Val acc: 0.741\n",
      "Epoch: 3/10 Iteration: 930 Train loss: 0.6932472586631775\n",
      "Epoch: 3/10 Iteration: 935 Train loss: 0.6931896209716797\n",
      "Epoch: 3/10 Iteration: 940 Train loss: 0.6932089924812317\n",
      "Epoch: 3/10 Iteration: 945 Train loss: 0.693244218826294\n",
      "Epoch: 3/10 Iteration: 950 Train loss: 0.6931772232055664\n",
      "Val acc: 0.746\n",
      "Epoch: 3/10 Iteration: 955 Train loss: 0.6933087706565857\n",
      "Epoch: 3/10 Iteration: 960 Train loss: 0.6931493878364563\n",
      "Epoch: 3/10 Iteration: 965 Train loss: 0.6931995153427124\n",
      "Epoch: 3/10 Iteration: 970 Train loss: 0.6931893825531006\n",
      "Epoch: 3/10 Iteration: 975 Train loss: 0.6932514905929565\n",
      "Val acc: 0.746\n",
      "Epoch: 3/10 Iteration: 980 Train loss: 0.6931929588317871\n",
      "Epoch: 3/10 Iteration: 985 Train loss: 0.693173885345459\n",
      "Epoch: 3/10 Iteration: 990 Train loss: 0.6931687593460083\n",
      "Epoch: 3/10 Iteration: 995 Train loss: 0.6931708455085754\n",
      "Epoch: 3/10 Iteration: 1000 Train loss: 0.6931822299957275\n",
      "Val acc: 0.752\n",
      "Epoch: 3/10 Iteration: 1005 Train loss: 0.6932140588760376\n",
      "Epoch: 3/10 Iteration: 1010 Train loss: 0.6934957504272461\n",
      "Epoch: 3/10 Iteration: 1015 Train loss: 0.6931702494621277\n",
      "Epoch: 3/10 Iteration: 1020 Train loss: 0.6931731700897217\n",
      "Epoch: 4/10 Iteration: 1025 Train loss: 0.6931580305099487\n",
      "Val acc: 0.752\n",
      "Epoch: 4/10 Iteration: 1030 Train loss: 0.693166196346283\n",
      "Epoch: 4/10 Iteration: 1035 Train loss: 0.6931626796722412\n",
      "Epoch: 4/10 Iteration: 1040 Train loss: 0.693193793296814\n",
      "Epoch: 4/10 Iteration: 1045 Train loss: 0.693157970905304\n",
      "Epoch: 4/10 Iteration: 1050 Train loss: 0.6931471228599548\n",
      "Val acc: 0.767\n",
      "Epoch: 4/10 Iteration: 1055 Train loss: 0.6933250427246094\n",
      "Epoch: 4/10 Iteration: 1060 Train loss: 0.6931471228599548\n",
      "Epoch: 4/10 Iteration: 1065 Train loss: 0.6931892037391663\n",
      "Epoch: 4/10 Iteration: 1070 Train loss: 0.693152666091919\n",
      "Epoch: 4/10 Iteration: 1075 Train loss: 0.6931787729263306\n",
      "Val acc: 0.772\n",
      "Epoch: 4/10 Iteration: 1080 Train loss: 0.6931845545768738\n",
      "Epoch: 4/10 Iteration: 1085 Train loss: 0.6933133006095886\n",
      "Epoch: 4/10 Iteration: 1090 Train loss: 0.6931513547897339\n",
      "Epoch: 4/10 Iteration: 1095 Train loss: 0.6931564211845398\n",
      "Epoch: 4/10 Iteration: 1100 Train loss: 0.6931743025779724\n",
      "Val acc: 0.778\n",
      "Epoch: 4/10 Iteration: 1105 Train loss: 0.6931524276733398\n",
      "Epoch: 4/10 Iteration: 1110 Train loss: 0.6931858062744141\n",
      "Epoch: 4/10 Iteration: 1115 Train loss: 0.6931990385055542\n",
      "Epoch: 4/10 Iteration: 1120 Train loss: 0.6932640075683594\n",
      "Epoch: 4/10 Iteration: 1125 Train loss: 0.6931655406951904\n",
      "Val acc: 0.783\n",
      "Epoch: 4/10 Iteration: 1130 Train loss: 0.6931473016738892\n",
      "Epoch: 4/10 Iteration: 1135 Train loss: 0.6931117177009583\n",
      "Epoch: 4/10 Iteration: 1140 Train loss: 0.693188488483429\n",
      "Epoch: 4/10 Iteration: 1145 Train loss: 0.6932048201560974\n",
      "Epoch: 4/10 Iteration: 1150 Train loss: 0.6931471228599548\n",
      "Val acc: 0.788\n",
      "Epoch: 4/10 Iteration: 1155 Train loss: 0.6931281685829163\n",
      "Epoch: 4/10 Iteration: 1160 Train loss: 0.693209171295166\n",
      "Epoch: 4/10 Iteration: 1165 Train loss: 0.6931854486465454\n",
      "Epoch: 4/10 Iteration: 1170 Train loss: 0.693186342716217\n",
      "Epoch: 4/10 Iteration: 1175 Train loss: 0.6930903196334839\n",
      "Val acc: 0.793\n",
      "Epoch: 4/10 Iteration: 1180 Train loss: 0.6931714415550232\n",
      "Epoch: 4/10 Iteration: 1185 Train loss: 0.6930887699127197\n",
      "Epoch: 4/10 Iteration: 1190 Train loss: 0.6931694149971008\n",
      "Epoch: 4/10 Iteration: 1195 Train loss: 0.6931309700012207\n",
      "Epoch: 4/10 Iteration: 1200 Train loss: 0.6931499242782593\n",
      "Val acc: 0.793\n",
      "Epoch: 4/10 Iteration: 1205 Train loss: 0.6931471228599548\n",
      "Epoch: 4/10 Iteration: 1210 Train loss: 0.6932231187820435\n",
      "Epoch: 4/10 Iteration: 1215 Train loss: 0.6931341290473938\n",
      "Epoch: 4/10 Iteration: 1220 Train loss: 0.6931913495063782\n",
      "Epoch: 4/10 Iteration: 1225 Train loss: 0.693174421787262\n",
      "Val acc: 0.793\n",
      "Epoch: 4/10 Iteration: 1230 Train loss: 0.6931480169296265\n",
      "Epoch: 4/10 Iteration: 1235 Train loss: 0.6931828856468201\n",
      "Epoch: 4/10 Iteration: 1240 Train loss: 0.6931658387184143\n",
      "Epoch: 4/10 Iteration: 1245 Train loss: 0.6932137608528137\n",
      "Epoch: 4/10 Iteration: 1250 Train loss: 0.6931471228599548\n",
      "Val acc: 0.798\n",
      "Epoch: 4/10 Iteration: 1255 Train loss: 0.6931896209716797\n",
      "Epoch: 4/10 Iteration: 1260 Train loss: 0.6931471228599548\n",
      "Epoch: 4/10 Iteration: 1265 Train loss: 0.6934328079223633\n",
      "Epoch: 4/10 Iteration: 1270 Train loss: 0.6931731700897217\n",
      "Epoch: 4/10 Iteration: 1275 Train loss: 0.6931706666946411\n",
      "Val acc: 0.798\n",
      "Epoch: 5/10 Iteration: 1280 Train loss: 0.6931638717651367\n",
      "Epoch: 5/10 Iteration: 1285 Train loss: 0.6931633353233337\n",
      "Epoch: 5/10 Iteration: 1290 Train loss: 0.6932289004325867\n",
      "Epoch: 5/10 Iteration: 1295 Train loss: 0.6931729912757874\n",
      "Epoch: 5/10 Iteration: 1300 Train loss: 0.6931929588317871\n",
      "Val acc: 0.798\n",
      "Epoch: 5/10 Iteration: 1305 Train loss: 0.6931484341621399\n",
      "Epoch: 5/10 Iteration: 1310 Train loss: 0.6932206749916077\n",
      "Epoch: 5/10 Iteration: 1315 Train loss: 0.6931517124176025\n",
      "Epoch: 5/10 Iteration: 1320 Train loss: 0.693106472492218\n",
      "Epoch: 5/10 Iteration: 1325 Train loss: 0.693157970905304\n",
      "Val acc: 0.798\n",
      "Epoch: 5/10 Iteration: 1330 Train loss: 0.6932070851325989\n",
      "Epoch: 5/10 Iteration: 1335 Train loss: 0.6931279897689819\n",
      "Epoch: 5/10 Iteration: 1340 Train loss: 0.6931920647621155\n",
      "Epoch: 5/10 Iteration: 1345 Train loss: 0.6932107210159302\n"
     ]
    },
    {
     "name": "stdout",
     "output_type": "stream",
     "text": [
      "Epoch: 5/10 Iteration: 1350 Train loss: 0.69317227602005\n",
      "Val acc: 0.804\n",
      "Epoch: 5/10 Iteration: 1355 Train loss: 0.6931471228599548\n",
      "Epoch: 5/10 Iteration: 1360 Train loss: 0.6931471228599548\n",
      "Epoch: 5/10 Iteration: 1365 Train loss: 0.6931575536727905\n",
      "Epoch: 5/10 Iteration: 1370 Train loss: 0.69315105676651\n",
      "Epoch: 5/10 Iteration: 1375 Train loss: 0.6931471228599548\n",
      "Val acc: 0.809\n",
      "Epoch: 5/10 Iteration: 1380 Train loss: 0.6931508779525757\n",
      "Epoch: 5/10 Iteration: 1385 Train loss: 0.6931610703468323\n",
      "Epoch: 5/10 Iteration: 1390 Train loss: 0.6931574940681458\n",
      "Epoch: 5/10 Iteration: 1395 Train loss: 0.6931563019752502\n",
      "Epoch: 5/10 Iteration: 1400 Train loss: 0.6932353377342224\n",
      "Val acc: 0.814\n",
      "Epoch: 5/10 Iteration: 1405 Train loss: 0.6931613683700562\n",
      "Epoch: 5/10 Iteration: 1410 Train loss: 0.6931242942810059\n",
      "Epoch: 5/10 Iteration: 1415 Train loss: 0.6931767463684082\n",
      "Epoch: 5/10 Iteration: 1420 Train loss: 0.6931373476982117\n",
      "Epoch: 5/10 Iteration: 1425 Train loss: 0.6931471228599548\n",
      "Val acc: 0.814\n",
      "Epoch: 5/10 Iteration: 1430 Train loss: 0.6931713819503784\n",
      "Epoch: 5/10 Iteration: 1435 Train loss: 0.6932254433631897\n",
      "Epoch: 5/10 Iteration: 1440 Train loss: 0.6931014060974121\n",
      "Epoch: 5/10 Iteration: 1445 Train loss: 0.6932255029678345\n",
      "Epoch: 5/10 Iteration: 1450 Train loss: 0.6931593418121338\n",
      "Val acc: 0.814\n",
      "Epoch: 5/10 Iteration: 1455 Train loss: 0.6931471228599548\n",
      "Epoch: 5/10 Iteration: 1460 Train loss: 0.6931471228599548\n",
      "Epoch: 5/10 Iteration: 1465 Train loss: 0.6932481527328491\n",
      "Epoch: 5/10 Iteration: 1470 Train loss: 0.6932074427604675\n",
      "Epoch: 5/10 Iteration: 1475 Train loss: 0.6931530237197876\n",
      "Val acc: 0.814\n",
      "Epoch: 5/10 Iteration: 1480 Train loss: 0.69317626953125\n",
      "Epoch: 5/10 Iteration: 1485 Train loss: 0.6931618452072144\n",
      "Epoch: 5/10 Iteration: 1490 Train loss: 0.693149983882904\n",
      "Epoch: 5/10 Iteration: 1495 Train loss: 0.6931923031806946\n",
      "Epoch: 5/10 Iteration: 1500 Train loss: 0.6931471228599548\n",
      "Val acc: 0.819\n",
      "Epoch: 5/10 Iteration: 1505 Train loss: 0.6931471228599548\n",
      "Epoch: 5/10 Iteration: 1510 Train loss: 0.6931504011154175\n",
      "Epoch: 5/10 Iteration: 1515 Train loss: 0.6931471228599548\n",
      "Epoch: 5/10 Iteration: 1520 Train loss: 0.6932860612869263\n",
      "Epoch: 5/10 Iteration: 1525 Train loss: 0.6931771039962769\n",
      "Val acc: 0.824\n",
      "Epoch: 5/10 Iteration: 1530 Train loss: 0.6931800842285156\n",
      "Epoch: 6/10 Iteration: 1535 Train loss: 0.6931471228599548\n",
      "Epoch: 6/10 Iteration: 1540 Train loss: 0.6931533217430115\n",
      "Epoch: 6/10 Iteration: 1545 Train loss: 0.6931589245796204\n",
      "Epoch: 6/10 Iteration: 1550 Train loss: 0.6931542754173279\n",
      "Val acc: 0.824\n",
      "Epoch: 6/10 Iteration: 1555 Train loss: 0.6931656002998352\n",
      "Epoch: 6/10 Iteration: 1560 Train loss: 0.6931471228599548\n",
      "Epoch: 6/10 Iteration: 1565 Train loss: 0.6932805776596069\n",
      "Epoch: 6/10 Iteration: 1570 Train loss: 0.693151593208313\n",
      "Epoch: 6/10 Iteration: 1575 Train loss: 0.6931471228599548\n",
      "Val acc: 0.824\n",
      "Epoch: 6/10 Iteration: 1580 Train loss: 0.6931560039520264\n",
      "Epoch: 6/10 Iteration: 1585 Train loss: 0.6932174563407898\n",
      "Epoch: 6/10 Iteration: 1590 Train loss: 0.6931471228599548\n",
      "Epoch: 6/10 Iteration: 1595 Train loss: 0.6933821439743042\n",
      "Epoch: 6/10 Iteration: 1600 Train loss: 0.6931471228599548\n",
      "Val acc: 0.824\n",
      "Epoch: 6/10 Iteration: 1605 Train loss: 0.6931537389755249\n",
      "Epoch: 6/10 Iteration: 1610 Train loss: 0.6931471228599548\n",
      "Epoch: 6/10 Iteration: 1615 Train loss: 0.6931572556495667\n",
      "Epoch: 6/10 Iteration: 1620 Train loss: 0.6931471228599548\n",
      "Epoch: 6/10 Iteration: 1625 Train loss: 0.6931471228599548\n",
      "Val acc: 0.829\n",
      "Epoch: 6/10 Iteration: 1630 Train loss: 0.6932036280632019\n",
      "Epoch: 6/10 Iteration: 1635 Train loss: 0.69315505027771\n",
      "Epoch: 6/10 Iteration: 1640 Train loss: 0.6931471228599548\n",
      "Epoch: 6/10 Iteration: 1645 Train loss: 0.6931563019752502\n",
      "Epoch: 6/10 Iteration: 1650 Train loss: 0.6931471228599548\n",
      "Val acc: 0.829\n",
      "Epoch: 6/10 Iteration: 1655 Train loss: 0.6931664943695068\n",
      "Epoch: 6/10 Iteration: 1660 Train loss: 0.6931471228599548\n",
      "Epoch: 6/10 Iteration: 1665 Train loss: 0.693112850189209\n",
      "Epoch: 6/10 Iteration: 1670 Train loss: 0.6931544542312622\n",
      "Epoch: 6/10 Iteration: 1675 Train loss: 0.6931361556053162\n",
      "Val acc: 0.834\n",
      "Epoch: 6/10 Iteration: 1680 Train loss: 0.693199872970581\n",
      "Epoch: 6/10 Iteration: 1685 Train loss: 0.6928797960281372\n",
      "Epoch: 6/10 Iteration: 1690 Train loss: 0.6931744813919067\n",
      "Epoch: 6/10 Iteration: 1695 Train loss: 0.6929433345794678\n",
      "Epoch: 6/10 Iteration: 1700 Train loss: 0.6931511759757996\n",
      "Val acc: 0.839\n",
      "Epoch: 6/10 Iteration: 1705 Train loss: 0.6931591629981995\n",
      "Epoch: 6/10 Iteration: 1710 Train loss: 0.6931471228599548\n",
      "Epoch: 6/10 Iteration: 1715 Train loss: 0.6931471228599548\n",
      "Epoch: 6/10 Iteration: 1720 Train loss: 0.6931887865066528\n",
      "Epoch: 6/10 Iteration: 1725 Train loss: 0.6931508183479309\n",
      "Val acc: 0.839\n",
      "Epoch: 6/10 Iteration: 1730 Train loss: 0.6931255459785461\n",
      "Epoch: 6/10 Iteration: 1735 Train loss: 0.6931471228599548\n",
      "Epoch: 6/10 Iteration: 1740 Train loss: 0.6931673288345337\n",
      "Epoch: 6/10 Iteration: 1745 Train loss: 0.6931471228599548\n",
      "Epoch: 6/10 Iteration: 1750 Train loss: 0.6931898593902588\n",
      "Val acc: 0.839\n",
      "Epoch: 6/10 Iteration: 1755 Train loss: 0.6931471228599548\n",
      "Epoch: 6/10 Iteration: 1760 Train loss: 0.6931515336036682\n",
      "Epoch: 6/10 Iteration: 1765 Train loss: 0.6931915879249573\n",
      "Epoch: 6/10 Iteration: 1770 Train loss: 0.6931822299957275\n",
      "Epoch: 6/10 Iteration: 1775 Train loss: 0.6932870149612427\n",
      "Val acc: 0.839\n",
      "Epoch: 6/10 Iteration: 1780 Train loss: 0.6931471228599548\n",
      "Epoch: 6/10 Iteration: 1785 Train loss: 0.693148136138916\n",
      "Epoch: 7/10 Iteration: 1790 Train loss: 0.693148136138916\n",
      "Epoch: 7/10 Iteration: 1795 Train loss: 0.6931506991386414\n",
      "Epoch: 7/10 Iteration: 1800 Train loss: 0.6931518316268921\n",
      "Val acc: 0.839\n",
      "Epoch: 7/10 Iteration: 1805 Train loss: 0.6931471228599548\n",
      "Epoch: 7/10 Iteration: 1810 Train loss: 0.6931471228599548\n",
      "Epoch: 7/10 Iteration: 1815 Train loss: 0.6931471228599548\n",
      "Epoch: 7/10 Iteration: 1820 Train loss: 0.6932116746902466\n",
      "Epoch: 7/10 Iteration: 1825 Train loss: 0.6931934356689453\n",
      "Val acc: 0.839\n",
      "Epoch: 7/10 Iteration: 1830 Train loss: 0.6931427121162415\n",
      "Epoch: 7/10 Iteration: 1835 Train loss: 0.6931508183479309\n",
      "Epoch: 7/10 Iteration: 1840 Train loss: 0.69318026304245\n",
      "Epoch: 7/10 Iteration: 1845 Train loss: 0.6931471228599548\n",
      "Epoch: 7/10 Iteration: 1850 Train loss: 0.6935122013092041\n",
      "Val acc: 0.839\n",
      "Epoch: 7/10 Iteration: 1855 Train loss: 0.6931716203689575\n",
      "Epoch: 7/10 Iteration: 1860 Train loss: 0.6931591629981995\n",
      "Epoch: 7/10 Iteration: 1865 Train loss: 0.6931471228599548\n",
      "Epoch: 7/10 Iteration: 1870 Train loss: 0.6931536197662354\n",
      "Epoch: 7/10 Iteration: 1875 Train loss: 0.6931471228599548\n",
      "Val acc: 0.850\n",
      "Epoch: 7/10 Iteration: 1880 Train loss: 0.6931760311126709\n",
      "Epoch: 7/10 Iteration: 1885 Train loss: 0.6931731700897217\n",
      "Epoch: 7/10 Iteration: 1890 Train loss: 0.6932263970375061\n",
      "Epoch: 7/10 Iteration: 1895 Train loss: 0.6931471228599548\n",
      "Epoch: 7/10 Iteration: 1900 Train loss: 0.6931471228599548\n",
      "Val acc: 0.850\n",
      "Epoch: 7/10 Iteration: 1905 Train loss: 0.6931471228599548\n",
      "Epoch: 7/10 Iteration: 1910 Train loss: 0.6931548118591309\n",
      "Epoch: 7/10 Iteration: 1915 Train loss: 0.6931527256965637\n",
      "Epoch: 7/10 Iteration: 1920 Train loss: 0.6931735873222351\n",
      "Epoch: 7/10 Iteration: 1925 Train loss: 0.6931596398353577\n",
      "Val acc: 0.850\n",
      "Epoch: 7/10 Iteration: 1930 Train loss: 0.6931471228599548\n",
      "Epoch: 7/10 Iteration: 1935 Train loss: 0.6931655406951904\n",
      "Epoch: 7/10 Iteration: 1940 Train loss: 0.6930954456329346\n",
      "Epoch: 7/10 Iteration: 1945 Train loss: 0.6931471228599548\n",
      "Epoch: 7/10 Iteration: 1950 Train loss: 0.6932293176651001\n",
      "Val acc: 0.850\n",
      "Epoch: 7/10 Iteration: 1955 Train loss: 0.6931471228599548\n",
      "Epoch: 7/10 Iteration: 1960 Train loss: 0.6931530833244324\n",
      "Epoch: 7/10 Iteration: 1965 Train loss: 0.6931471228599548\n",
      "Epoch: 7/10 Iteration: 1970 Train loss: 0.6931563019752502\n",
      "Epoch: 7/10 Iteration: 1975 Train loss: 0.6932414770126343\n",
      "Val acc: 0.850\n",
      "Epoch: 7/10 Iteration: 1980 Train loss: 0.6931471228599548\n",
      "Epoch: 7/10 Iteration: 1985 Train loss: 0.6931471228599548\n",
      "Epoch: 7/10 Iteration: 1990 Train loss: 0.69315105676651\n",
      "Epoch: 7/10 Iteration: 1995 Train loss: 0.6931471228599548\n",
      "Epoch: 7/10 Iteration: 2000 Train loss: 0.6931471228599548\n",
      "Val acc: 0.850\n",
      "Epoch: 7/10 Iteration: 2005 Train loss: 0.6931865811347961\n",
      "Epoch: 7/10 Iteration: 2010 Train loss: 0.6931471228599548\n"
     ]
    },
    {
     "name": "stdout",
     "output_type": "stream",
     "text": [
      "Epoch: 7/10 Iteration: 2015 Train loss: 0.6931617856025696\n",
      "Epoch: 7/10 Iteration: 2020 Train loss: 0.6931471228599548\n",
      "Epoch: 7/10 Iteration: 2025 Train loss: 0.6931735277175903\n",
      "Val acc: 0.850\n",
      "Epoch: 7/10 Iteration: 2030 Train loss: 0.6933872699737549\n",
      "Epoch: 7/10 Iteration: 2035 Train loss: 0.6931471228599548\n",
      "Epoch: 7/10 Iteration: 2040 Train loss: 0.6931471228599548\n",
      "Epoch: 8/10 Iteration: 2045 Train loss: 0.6931797862052917\n",
      "Epoch: 8/10 Iteration: 2050 Train loss: 0.6931471228599548\n",
      "Val acc: 0.850\n",
      "Epoch: 8/10 Iteration: 2055 Train loss: 0.6931471228599548\n",
      "Epoch: 8/10 Iteration: 2060 Train loss: 0.6931471228599548\n",
      "Epoch: 8/10 Iteration: 2065 Train loss: 0.6931471228599548\n",
      "Epoch: 8/10 Iteration: 2070 Train loss: 0.6931471228599548\n",
      "Epoch: 8/10 Iteration: 2075 Train loss: 0.6932005882263184\n",
      "Val acc: 0.850\n",
      "Epoch: 8/10 Iteration: 2080 Train loss: 0.6931471228599548\n",
      "Epoch: 8/10 Iteration: 2085 Train loss: 0.6931433081626892\n",
      "Epoch: 8/10 Iteration: 2090 Train loss: 0.693193256855011\n",
      "Epoch: 8/10 Iteration: 2095 Train loss: 0.6932200789451599\n",
      "Epoch: 8/10 Iteration: 2100 Train loss: 0.6931575536727905\n",
      "Val acc: 0.850\n",
      "Epoch: 8/10 Iteration: 2105 Train loss: 0.6932371258735657\n",
      "Epoch: 8/10 Iteration: 2110 Train loss: 0.6931471228599548\n",
      "Epoch: 8/10 Iteration: 2115 Train loss: 0.6931742429733276\n",
      "Epoch: 8/10 Iteration: 2120 Train loss: 0.6931471228599548\n",
      "Epoch: 8/10 Iteration: 2125 Train loss: 0.6931607127189636\n",
      "Val acc: 0.850\n",
      "Epoch: 8/10 Iteration: 2130 Train loss: 0.6931471228599548\n",
      "Epoch: 8/10 Iteration: 2135 Train loss: 0.693169355392456\n",
      "Epoch: 8/10 Iteration: 2140 Train loss: 0.6931577920913696\n",
      "Epoch: 8/10 Iteration: 2145 Train loss: 0.6931504011154175\n",
      "Epoch: 8/10 Iteration: 2150 Train loss: 0.6931471228599548\n",
      "Val acc: 0.850\n",
      "Epoch: 8/10 Iteration: 2155 Train loss: 0.6931471228599548\n",
      "Epoch: 8/10 Iteration: 2160 Train loss: 0.6931471228599548\n",
      "Epoch: 8/10 Iteration: 2165 Train loss: 0.6931471228599548\n",
      "Epoch: 8/10 Iteration: 2170 Train loss: 0.6931471228599548\n",
      "Epoch: 8/10 Iteration: 2175 Train loss: 0.6931185126304626\n",
      "Val acc: 0.850\n",
      "Epoch: 8/10 Iteration: 2180 Train loss: 0.6931499242782593\n",
      "Epoch: 8/10 Iteration: 2185 Train loss: 0.6931720972061157\n",
      "Epoch: 8/10 Iteration: 2190 Train loss: 0.6931471228599548\n",
      "Epoch: 8/10 Iteration: 2195 Train loss: 0.6929057836532593\n",
      "Epoch: 8/10 Iteration: 2200 Train loss: 0.6931644082069397\n",
      "Val acc: 0.850\n",
      "Epoch: 8/10 Iteration: 2205 Train loss: 0.6931185126304626\n",
      "Epoch: 8/10 Iteration: 2210 Train loss: 0.6931778788566589\n",
      "Epoch: 8/10 Iteration: 2215 Train loss: 0.6931236386299133\n",
      "Epoch: 8/10 Iteration: 2220 Train loss: 0.6931427121162415\n",
      "Epoch: 8/10 Iteration: 2225 Train loss: 0.6931471228599548\n",
      "Val acc: 0.855\n",
      "Epoch: 8/10 Iteration: 2230 Train loss: 0.6932092308998108\n",
      "Epoch: 8/10 Iteration: 2235 Train loss: 0.6931471228599548\n",
      "Epoch: 8/10 Iteration: 2240 Train loss: 0.6931471228599548\n",
      "Epoch: 8/10 Iteration: 2245 Train loss: 0.6931471228599548\n",
      "Epoch: 8/10 Iteration: 2250 Train loss: 0.6931471228599548\n",
      "Val acc: 0.850\n",
      "Epoch: 8/10 Iteration: 2255 Train loss: 0.6931471228599548\n",
      "Epoch: 8/10 Iteration: 2260 Train loss: 0.6931571364402771\n",
      "Epoch: 8/10 Iteration: 2265 Train loss: 0.6931484341621399\n",
      "Epoch: 8/10 Iteration: 2270 Train loss: 0.6931471228599548\n",
      "Epoch: 8/10 Iteration: 2275 Train loss: 0.6931936144828796\n",
      "Val acc: 0.850\n",
      "Epoch: 8/10 Iteration: 2280 Train loss: 0.693169116973877\n",
      "Epoch: 8/10 Iteration: 2285 Train loss: 0.6931602358818054\n",
      "Epoch: 8/10 Iteration: 2290 Train loss: 0.6931539177894592\n",
      "Epoch: 8/10 Iteration: 2295 Train loss: 0.69315505027771\n",
      "Epoch: 9/10 Iteration: 2300 Train loss: 0.6931471228599548\n",
      "Val acc: 0.856\n",
      "Epoch: 9/10 Iteration: 2305 Train loss: 0.6931544542312622\n",
      "Epoch: 9/10 Iteration: 2310 Train loss: 0.6931471228599548\n",
      "Epoch: 9/10 Iteration: 2315 Train loss: 0.6931471228599548\n",
      "Epoch: 9/10 Iteration: 2320 Train loss: 0.6931471228599548\n",
      "Epoch: 9/10 Iteration: 2325 Train loss: 0.6931551098823547\n",
      "Val acc: 0.856\n",
      "Epoch: 9/10 Iteration: 2330 Train loss: 0.693233072757721\n",
      "Epoch: 9/10 Iteration: 2335 Train loss: 0.6931520700454712\n",
      "Epoch: 9/10 Iteration: 2340 Train loss: 0.693133533000946\n",
      "Epoch: 9/10 Iteration: 2345 Train loss: 0.6931471228599548\n",
      "Epoch: 9/10 Iteration: 2350 Train loss: 0.6931419968605042\n",
      "Val acc: 0.856\n",
      "Epoch: 9/10 Iteration: 2355 Train loss: 0.6931471228599548\n",
      "Epoch: 9/10 Iteration: 2360 Train loss: 0.693177342414856\n",
      "Epoch: 9/10 Iteration: 2365 Train loss: 0.6931471228599548\n",
      "Epoch: 9/10 Iteration: 2370 Train loss: 0.6931552886962891\n",
      "Epoch: 9/10 Iteration: 2375 Train loss: 0.6931471228599548\n",
      "Val acc: 0.866\n",
      "Epoch: 9/10 Iteration: 2380 Train loss: 0.6931986212730408\n",
      "Epoch: 9/10 Iteration: 2385 Train loss: 0.6931471228599548\n",
      "Epoch: 9/10 Iteration: 2390 Train loss: 0.6931812167167664\n",
      "Epoch: 9/10 Iteration: 2395 Train loss: 0.6931471228599548\n",
      "Epoch: 9/10 Iteration: 2400 Train loss: 0.6931471228599548\n",
      "Val acc: 0.861\n",
      "Epoch: 9/10 Iteration: 2405 Train loss: 0.6931471228599548\n",
      "Epoch: 9/10 Iteration: 2410 Train loss: 0.6931557059288025\n",
      "Epoch: 9/10 Iteration: 2415 Train loss: 0.6931471228599548\n",
      "Epoch: 9/10 Iteration: 2420 Train loss: 0.6931471228599548\n",
      "Epoch: 9/10 Iteration: 2425 Train loss: 0.6931471228599548\n",
      "Val acc: 0.861\n",
      "Epoch: 9/10 Iteration: 2430 Train loss: 0.6930853724479675\n",
      "Epoch: 9/10 Iteration: 2435 Train loss: 0.6931506991386414\n",
      "Epoch: 9/10 Iteration: 2440 Train loss: 0.6931070685386658\n",
      "Epoch: 9/10 Iteration: 2445 Train loss: 0.6931471228599548\n",
      "Epoch: 9/10 Iteration: 2450 Train loss: 0.6928755640983582\n",
      "Val acc: 0.866\n",
      "Epoch: 9/10 Iteration: 2455 Train loss: 0.6931508183479309\n",
      "Epoch: 9/10 Iteration: 2460 Train loss: 0.6932079195976257\n",
      "Epoch: 9/10 Iteration: 2465 Train loss: 0.6931471228599548\n",
      "Epoch: 9/10 Iteration: 2470 Train loss: 0.6931865811347961\n",
      "Epoch: 9/10 Iteration: 2475 Train loss: 0.6931471228599548\n",
      "Val acc: 0.861\n",
      "Epoch: 9/10 Iteration: 2480 Train loss: 0.6931471228599548\n",
      "Epoch: 9/10 Iteration: 2485 Train loss: 0.6931471228599548\n",
      "Epoch: 9/10 Iteration: 2490 Train loss: 0.6931588649749756\n",
      "Epoch: 9/10 Iteration: 2495 Train loss: 0.6931471228599548\n",
      "Epoch: 9/10 Iteration: 2500 Train loss: 0.6931471228599548\n",
      "Val acc: 0.866\n",
      "Epoch: 9/10 Iteration: 2505 Train loss: 0.6931471228599548\n",
      "Epoch: 9/10 Iteration: 2510 Train loss: 0.6931471228599548\n",
      "Epoch: 9/10 Iteration: 2515 Train loss: 0.6931471228599548\n",
      "Epoch: 9/10 Iteration: 2520 Train loss: 0.6931471228599548\n",
      "Epoch: 9/10 Iteration: 2525 Train loss: 0.6931471228599548\n",
      "Val acc: 0.866\n",
      "Epoch: 9/10 Iteration: 2530 Train loss: 0.6931471228599548\n",
      "Epoch: 9/10 Iteration: 2535 Train loss: 0.6931498050689697\n",
      "Epoch: 9/10 Iteration: 2540 Train loss: 0.6932018399238586\n",
      "Epoch: 9/10 Iteration: 2545 Train loss: 0.6931471228599548\n",
      "Epoch: 9/10 Iteration: 2550 Train loss: 0.6931471228599548\n",
      "Val acc: 0.861\n"
     ]
    }
   ],
   "source": [
    "epochs = 10\n",
    "\n",
    "with graph.as_default():\n",
    "    saver = tf.train.Saver()\n",
    "\n",
    "with tf.Session(graph=graph) as sess:\n",
    "    sess.run(tf.global_variables_initializer())\n",
    "    iteration = 1\n",
    "    for e in range(epochs):\n",
    "        state = sess.run(initial_state)\n",
    "        \n",
    "        for ii, (x, y) in enumerate(get_batches(train_x, train_y, batch_size), 1):\n",
    "            feed = {inputs_: x,\n",
    "                    labels_: y,\n",
    "                    keep_prob: 0.5,\n",
    "                    initial_state: state}\n",
    "            loss, state, _ = sess.run([cost, final_state, optimizer], feed_dict=feed)\n",
    "            \n",
    "            if iteration%5==0:\n",
    "                print(\"Epoch: {}/{}\".format(e, epochs),\n",
    "                      \"Iteration: {}\".format(iteration),\n",
    "                      \"Train loss: {}\".format(loss))\n",
    "\n",
    "            if iteration%25==0:\n",
    "                val_acc = []\n",
    "                val_state = sess.run(cell.zero_state(batch_size, tf.float32))\n",
    "                for x, y in get_batches(val_x, val_y, batch_size):\n",
    "                    feed = {inputs_: x,\n",
    "                            labels_: y,\n",
    "                            keep_prob: 1,\n",
    "                            initial_state: val_state}\n",
    "                    batch_acc, val_state = sess.run([accuracy, final_state], feed_dict=feed)\n",
    "                    val_acc.append(batch_acc)\n",
    "                print(\"Val acc: {:.3f}\".format(np.mean(val_acc)))\n",
    "            iteration +=1\n",
    "    saver.save(sess, \"./checkpoints/basic_lstm_tf.ckpt\")"
   ]
  },
  {
   "cell_type": "code",
   "execution_count": null,
   "metadata": {
    "collapsed": true
   },
   "outputs": [],
   "source": []
  }
 ],
 "metadata": {
  "hide_input": false,
  "kernelspec": {
   "display_name": "Python 3",
   "language": "python",
   "name": "python3"
  },
  "language_info": {
   "codemirror_mode": {
    "name": "ipython",
    "version": 3
   },
   "file_extension": ".py",
   "mimetype": "text/x-python",
   "name": "python",
   "nbconvert_exporter": "python",
   "pygments_lexer": "ipython3",
   "version": "3.5.2"
  },
  "toc": {
   "nav_menu": {},
   "number_sections": true,
   "sideBar": true,
   "skip_h1_title": false,
   "toc_cell": false,
   "toc_position": {},
   "toc_section_display": "block",
   "toc_window_display": false
  },
  "widgets": {
   "state": {},
   "version": "1.1.2"
  }
 },
 "nbformat": 4,
 "nbformat_minor": 2
}
