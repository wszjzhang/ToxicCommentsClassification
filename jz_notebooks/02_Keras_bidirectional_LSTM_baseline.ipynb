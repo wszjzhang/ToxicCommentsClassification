{
 "cells": [
  {
   "cell_type": "code",
   "execution_count": 1,
   "metadata": {
    "scrolled": true
   },
   "outputs": [
    {
     "name": "stdout",
     "output_type": "stream",
     "text": [
      "glove.6B.100d.txt.zip\n",
      "glove6b100dtxt\n",
      "sample_submission.csv\n",
      "sample_submission.csv.zip\n",
      "test.csv\n",
      "test.csv.zip\n",
      "train.csv\n",
      "train.csv.zip\n",
      "\n"
     ]
    },
    {
     "name": "stderr",
     "output_type": "stream",
     "text": [
      "Using TensorFlow backend.\n"
     ]
    }
   ],
   "source": [
    "import numpy as np\n",
    "import pandas as pd\n",
    "\n",
    "from subprocess import check_output\n",
    "print(check_output([\"ls\", \"../input\"]).decode(\"utf8\"))\n",
    "\n",
    "from keras.models import Model\n",
    "from keras.layers import Dense, Embedding, Input\n",
    "from keras.layers import LSTM, Bidirectional, GlobalMaxPool1D, Dropout\n",
    "from keras.preprocessing import text, sequence\n",
    "from keras.callbacks import EarlyStopping, ModelCheckpoint"
   ]
  },
  {
   "cell_type": "markdown",
   "metadata": {},
   "source": [
    "## Loading data"
   ]
  },
  {
   "cell_type": "code",
   "execution_count": 2,
   "metadata": {
    "collapsed": true
   },
   "outputs": [],
   "source": [
    "max_features = 20000\n",
    "maxlen = 100\n",
    "\n",
    "train_df = pd.read_csv(\"../input/train.csv\")\n",
    "test_df = pd.read_csv(\"../input/test.csv\")\n",
    "train_df = train_df.sample(frac=1)\n",
    "\n",
    "list_sentences_train = train_df[\"comment_text\"].fillna(\"CVxTz\").values\n",
    "list_classes = [\"toxic\", \"severe_toxic\", \"obscene\", \"threat\", \"insult\", \"identity_hate\"]\n",
    "y = train_df[list_classes].values\n",
    "list_sentences_test = test_df[\"comment_text\"].fillna(\"CVxTz\").values"
   ]
  },
  {
   "cell_type": "markdown",
   "metadata": {},
   "source": [
    "## Model"
   ]
  },
  {
   "cell_type": "code",
   "execution_count": 3,
   "metadata": {
    "collapsed": true
   },
   "outputs": [],
   "source": [
    "tokenizer = text.Tokenizer(num_words=max_features)\n",
    "tokenizer.fit_on_texts(list(list_sentences_train))\n",
    "list_tokenized_train = tokenizer.texts_to_sequences(list_sentences_train)\n",
    "list_tokenized_test = tokenizer.texts_to_sequences(list_sentences_test)\n",
    "X_train = sequence.pad_sequences(list_tokenized_train, maxlen=maxlen)\n",
    "X_test = sequence.pad_sequences(list_tokenized_test, maxlen=maxlen)\n"
   ]
  },
  {
   "cell_type": "code",
   "execution_count": 8,
   "metadata": {},
   "outputs": [
    {
     "data": {
      "text/plain": [
       "array([[    0,     0,     0,     0,     0,     0,     0,     0,     0,\n",
       "            0,     0,     0,     0,     0,     0,     0,     0,     0,\n",
       "            0,     0,     0,     0,     0,     0,     0,     0,     0,\n",
       "            0,     0,     0,     0,     0,     0,     0,     0,     0,\n",
       "            0,     0,     0,     0,     0,     0,     0,     0,     0,\n",
       "            0,     0,     0,     0,     0,     0,     0,     0,     0,\n",
       "            0,     0,     0,     0,     0,     0,     0,     0,     0,\n",
       "            0,     0,     0,     0,     0,     0,     0,     0,     0,\n",
       "            0,     0,     0,     0,     0,     0,     0,     0,     0,\n",
       "            0,     0,     0,   161,    98,     2,    64,     6,   643,\n",
       "          536,    15,     1,   254,   106,  5956,    18,     6, 15190,\n",
       "          215],\n",
       "       [    0,     0,     0,     0,     0,     0,     0,     0,     0,\n",
       "            0,     0,     0,     0,     0,     0,     0,     0,     0,\n",
       "            0,     0,     0,     0,     0,     0,     0,     0,     0,\n",
       "            0,     0,     0,     0,     0,     0,     0,     0,     0,\n",
       "            0,     0,     0,     0,     0,     0,     0,     0,     0,\n",
       "            0,     0,     0,     0,     0,     0,     0,     0,     0,\n",
       "            0,     0,     0,     0,     0,     0,     0,     0,     0,\n",
       "            0,     0,     0,     0,     0,     0,     0,     0,     0,\n",
       "            0,     0,     0,     0,     0,     0,     0,     0,     0,\n",
       "            0,     0,     0,     0,     0,     0,     0,     0,     0,\n",
       "            0,     0,  1062,  1529,   276,     8,     1,  1111,   394,\n",
       "         3997],\n",
       "       [    0,     0,     0,     0,     0,     0,     0,     0,     0,\n",
       "            0,     0,     0,     0,     0,     0,     0,     0,     0,\n",
       "            0,     0,     0,     0,     0,     0,     0,     0,     0,\n",
       "            0,     0,     0,     0,     0,     0,     0,     0,     0,\n",
       "            0,     0,     0,     0,     0,     0,     0,     0,     0,\n",
       "            0,     0,     0,     0,     0,     0,     0,     0,     0,\n",
       "            0,     0,     0,     0,     0,     0,     0,     0,     0,\n",
       "            0,     0,     0,     0,     0,     0,     0,     0,     0,\n",
       "            0,     0,    52,     4,     5,  1657,     3,    66,  1822,\n",
       "         4784,    19,     5,   328,   549,  2487,  3212,  6672,  1657,\n",
       "           78,   101,     9,    28,     8,   891,    32,    74,    49,\n",
       "           13]])"
      ]
     },
     "execution_count": 8,
     "metadata": {},
     "output_type": "execute_result"
    }
   ],
   "source": [
    "X_train[:3]"
   ]
  },
  {
   "cell_type": "code",
   "execution_count": 4,
   "metadata": {
    "collapsed": true
   },
   "outputs": [],
   "source": [
    "def get_model(num_cell):\n",
    "    embed_size = 300\n",
    "    inp = Input(shape=(maxlen, ))\n",
    "    x = Embedding(max_features, embed_size)(inp)\n",
    "    x = Bidirectional(LSTM(num_cell, return_sequences=True))(x)\n",
    "    x = GlobalMaxPool1D()(x)\n",
    "    x = Dropout(0.2)(x)\n",
    "    x = Dense(50, activation=\"relu\")(x)\n",
    "    x = Dropout(0.1)(x)\n",
    "    x = Dense(6, activation=\"sigmoid\")(x)\n",
    "    model = Model(inputs=inp, outputs=x)\n",
    "    model.compile(loss='binary_crossentropy',\n",
    "                  optimizer='adam',\n",
    "                  metrics=['accuracy'])\n",
    "\n",
    "    return model"
   ]
  },
  {
   "cell_type": "markdown",
   "metadata": {},
   "source": [
    "## Training"
   ]
  },
  {
   "cell_type": "code",
   "execution_count": 5,
   "metadata": {},
   "outputs": [
    {
     "name": "stdout",
     "output_type": "stream",
     "text": [
      "Train on 143613 samples, validate on 15958 samples\n",
      "Epoch 1/10\n",
      "143552/143613 [============================>.] - ETA: 0s - loss: 0.0706 - acc: 0.9768Epoch 00000: val_loss improved from inf to 0.04782, saving model to weights_base.best.hdf5\n",
      "143613/143613 [==============================] - 536s - loss: 0.0706 - acc: 0.9768 - val_loss: 0.0478 - val_acc: 0.9824\n",
      "Epoch 2/10\n",
      "143552/143613 [============================>.] - ETA: 0s - loss: 0.0463 - acc: 0.9830Epoch 00001: val_loss improved from 0.04782 to 0.04591, saving model to weights_base.best.hdf5\n",
      "143613/143613 [==============================] - 532s - loss: 0.0463 - acc: 0.9830 - val_loss: 0.0459 - val_acc: 0.9828\n",
      "Epoch 3/10\n",
      "143552/143613 [============================>.] - ETA: 0s - loss: 0.0399 - acc: 0.9846Epoch 00002: val_loss did not improve\n",
      "143613/143613 [==============================] - 530s - loss: 0.0399 - acc: 0.9846 - val_loss: 0.0459 - val_acc: 0.9830\n",
      "Epoch 4/10\n",
      "143552/143613 [============================>.] - ETA: 0s - loss: 0.0343 - acc: 0.9864Epoch 00003: val_loss did not improve\n",
      "143613/143613 [==============================] - 532s - loss: 0.0343 - acc: 0.9864 - val_loss: 0.0484 - val_acc: 0.9830\n",
      "Epoch 5/10\n",
      "143552/143613 [============================>.] - ETA: 0s - loss: 0.0302 - acc: 0.9879Epoch 00004: val_loss did not improve\n",
      "143613/143613 [==============================] - 533s - loss: 0.0302 - acc: 0.9879 - val_loss: 0.0522 - val_acc: 0.9818\n",
      "Epoch 6/10\n",
      "143552/143613 [============================>.] - ETA: 0s - loss: 0.0263 - acc: 0.9894Epoch 00005: val_loss did not improve\n",
      "143613/143613 [==============================] - 532s - loss: 0.0263 - acc: 0.9894 - val_loss: 0.0578 - val_acc: 0.9823\n",
      "Epoch 7/10\n",
      "143552/143613 [============================>.] - ETA: 0s - loss: 0.0232 - acc: 0.9906Epoch 00006: val_loss did not improve\n",
      "143613/143613 [==============================] - 532s - loss: 0.0233 - acc: 0.9906 - val_loss: 0.0638 - val_acc: 0.9825\n",
      "Epoch 8/10\n",
      "143552/143613 [============================>.] - ETA: 0s - loss: 0.0205 - acc: 0.9916Epoch 00007: val_loss did not improve\n",
      "143613/143613 [==============================] - 533s - loss: 0.0205 - acc: 0.9916 - val_loss: 0.0653 - val_acc: 0.9814\n",
      "Epoch 9/10\n",
      "143552/143613 [============================>.] - ETA: 0s - loss: 0.0184 - acc: 0.9925Epoch 00008: val_loss did not improve\n",
      "143613/143613 [==============================] - 533s - loss: 0.0184 - acc: 0.9925 - val_loss: 0.0727 - val_acc: 0.9808\n",
      "Epoch 10/10\n",
      "143552/143613 [============================>.] - ETA: 0s - loss: 0.0165 - acc: 0.9933Epoch 00009: val_loss did not improve\n",
      "143613/143613 [==============================] - 534s - loss: 0.0165 - acc: 0.9933 - val_loss: 0.0799 - val_acc: 0.9807\n"
     ]
    },
    {
     "data": {
      "text/plain": [
       "<keras.callbacks.History at 0x1e51d7f8940>"
      ]
     },
     "execution_count": 5,
     "metadata": {},
     "output_type": "execute_result"
    }
   ],
   "source": [
    "model = get_model(32)\n",
    "batch_size = 64\n",
    "epochs = 10\n",
    "\n",
    "\n",
    "file_path=\"weights_base.best.hdf5\"\n",
    "checkpoint = ModelCheckpoint(file_path, monitor='val_loss', verbose=1, save_best_only=True, mode='min')\n",
    "\n",
    "early = EarlyStopping(monitor=\"val_loss\", mode=\"min\", patience=20)\n",
    "\n",
    "callbacks_list = [checkpoint, early] #early\n",
    "model.fit(X_train, y, batch_size=batch_size, epochs=epochs, validation_split=0.1, callbacks=callbacks_list)"
   ]
  },
  {
   "cell_type": "code",
   "execution_count": 6,
   "metadata": {},
   "outputs": [
    {
     "name": "stdout",
     "output_type": "stream",
     "text": [
      "Train on 143613 samples, validate on 15958 samples\n",
      "Epoch 1/5\n",
      "143488/143613 [============================>.] - ETA: 0s - loss: 0.0131 - acc: 0.9947Epoch 00000: val_loss improved from inf to 0.09125, saving model to weights_base.best.hdf5\n",
      "143613/143613 [==============================] - 274s - loss: 0.0131 - acc: 0.9947 - val_loss: 0.0912 - val_acc: 0.9813\n",
      "Epoch 2/5\n",
      "143488/143613 [============================>.] - ETA: 0s - loss: 0.0117 - acc: 0.9953Epoch 00001: val_loss did not improve\n",
      "143613/143613 [==============================] - 269s - loss: 0.0117 - acc: 0.9953 - val_loss: 0.0937 - val_acc: 0.9805\n",
      "Epoch 3/5\n",
      "143488/143613 [============================>.] - ETA: 0s - loss: 0.0108 - acc: 0.9958Epoch 00002: val_loss did not improve\n",
      "143613/143613 [==============================] - 268s - loss: 0.0107 - acc: 0.9958 - val_loss: 0.0995 - val_acc: 0.9802\n",
      "Epoch 4/5\n",
      "143488/143613 [============================>.] - ETA: 0s - loss: 0.0102 - acc: 0.9960Epoch 00003: val_loss did not improve\n",
      "143613/143613 [==============================] - 268s - loss: 0.0102 - acc: 0.9960 - val_loss: 0.1011 - val_acc: 0.9807\n",
      "Epoch 5/5\n",
      "143488/143613 [============================>.] - ETA: 0s - loss: 0.0097 - acc: 0.9962Epoch 00004: val_loss did not improve\n",
      "143613/143613 [==============================] - 267s - loss: 0.0097 - acc: 0.9962 - val_loss: 0.1048 - val_acc: 0.9806\n"
     ]
    },
    {
     "data": {
      "text/plain": [
       "<keras.callbacks.History at 0x1e56efe76a0>"
      ]
     },
     "execution_count": 6,
     "metadata": {},
     "output_type": "execute_result"
    }
   ],
   "source": [
    "batch_size = 128\n",
    "epochs = 5\n",
    "\n",
    "\n",
    "file_path=\"weights_base.best.hdf5\"\n",
    "checkpoint = ModelCheckpoint(file_path, monitor='val_loss', verbose=1, save_best_only=True, mode='min')\n",
    "\n",
    "early = EarlyStopping(monitor=\"val_loss\", mode=\"min\", patience=20)\n",
    "\n",
    "callbacks_list = [checkpoint, early] #early\n",
    "model.fit(X_train, y, batch_size=batch_size, epochs=epochs, validation_split=0.1, callbacks=callbacks_list)"
   ]
  },
  {
   "cell_type": "markdown",
   "metadata": {
    "collapsed": true
   },
   "source": [
    "## Submission"
   ]
  },
  {
   "cell_type": "code",
   "execution_count": 7,
   "metadata": {},
   "outputs": [],
   "source": [
    "model.load_weights(file_path)\n",
    "\n",
    "y_test = model.predict(X_test)"
   ]
  },
  {
   "cell_type": "code",
   "execution_count": 8,
   "metadata": {
    "collapsed": true
   },
   "outputs": [],
   "source": [
    "sample_submission = pd.read_csv(\"../input/sample_submission.csv\")\n",
    "\n",
    "sample_submission[list_classes] = y_test\n",
    "\n",
    "sample_submission.to_csv(\"../output/2_keras_baseline222.csv\", index=False)"
   ]
  },
  {
   "cell_type": "code",
   "execution_count": null,
   "metadata": {
    "collapsed": true
   },
   "outputs": [],
   "source": []
  }
 ],
 "metadata": {
  "hide_input": false,
  "kernelspec": {
   "display_name": "Python 3",
   "language": "python",
   "name": "python3"
  },
  "language_info": {
   "codemirror_mode": {
    "name": "ipython",
    "version": 3
   },
   "file_extension": ".py",
   "mimetype": "text/x-python",
   "name": "python",
   "nbconvert_exporter": "python",
   "pygments_lexer": "ipython3",
   "version": "3.5.2"
  },
  "latex_envs": {
   "LaTeX_envs_menu_present": true,
   "autocomplete": true,
   "bibliofile": "biblio.bib",
   "cite_by": "apalike",
   "current_citInitial": 1,
   "eqLabelWithNumbers": true,
   "eqNumInitial": 1,
   "hotkeys": {
    "equation": "Ctrl-E",
    "itemize": "Ctrl-I"
   },
   "labels_anchors": false,
   "latex_user_defs": false,
   "report_style_numbering": false,
   "user_envs_cfg": false
  },
  "toc": {
   "nav_menu": {},
   "number_sections": true,
   "sideBar": true,
   "skip_h1_title": false,
   "toc_cell": false,
   "toc_position": {},
   "toc_section_display": "block",
   "toc_window_display": false
  },
  "widgets": {
   "state": {},
   "version": "1.1.2"
  }
 },
 "nbformat": 4,
 "nbformat_minor": 2
}
